{
 "cells": [
  {
   "cell_type": "code",
   "execution_count": 1,
   "metadata": {},
   "outputs": [],
   "source": [
    "import numpy as np\n",
    "import tensorflow as tf\n",
    "import torch\n",
    "from scnn.bipolar_functions.operations import *\n",
    "from scnn.convertors import F2S, S2F"
   ]
  },
  {
   "cell_type": "code",
   "execution_count": 2,
   "metadata": {},
   "outputs": [],
   "source": [
    "seq_len = 16384\n",
    "f2s = F2S(seq_len=seq_len)\n",
    "s2f = S2F()"
   ]
  },
  {
   "cell_type": "code",
   "execution_count": 3,
   "metadata": {},
   "outputs": [],
   "source": [
    "class MUXScaled_Linear():\n",
    "    def __init__(self, \n",
    "                 in_features,\n",
    "                 out_features,\n",
    "                 seq_len,\n",
    "                 bias=False) -> None:\n",
    "        super().__init__()\n",
    "\n",
    "        self.down_scale = in_features\n",
    "        self.in_features = in_features\n",
    "        self.out_features = out_features\n",
    "        self.seq_len = seq_len\n",
    "        self.is_bias = bias\n",
    "        self.weight = None\n",
    "        self.bias = None\n",
    "\n",
    "    def load_weight(self, data):\n",
    "        assert data['weight'].shape == torch.Size([self.in_features, self.out_features])\n",
    "\n",
    "        self.weight = F2S(seq_len=self.seq_len)(data['weight'])\n",
    "\n",
    "        if self.is_bias:\n",
    "            assert data['bias'].shape == torch.Size([self.out_features])\n",
    "            self.bias = F2S(seq_len=self.seq_len)(data['bias'])\n",
    "            if len(self.bias.shape) <=2 : \n",
    "                self.bias = self.bias.unsqueeze(dim=0)\n",
    "            self.weight = torch.cat([self.weight, self.bias], dim=0)\n",
    "\n",
    "    def forward(self, inputs):\n",
    "        assert self.weight is not None\n",
    "        if self.is_bias:\n",
    "            bias_input = torch.ones(1,self.seq_len, dtype=torch.bool).expand(inputs.shape[:-2]+(1,-1,))\n",
    "            inputs = torch.concat([inputs, bias_input],dim=-2)\n",
    "\n",
    "        out = scaled_matmul(inputs, self.weight)\n",
    "\n",
    "        return out"
   ]
  },
  {
   "cell_type": "code",
   "execution_count": 4,
   "metadata": {},
   "outputs": [],
   "source": [
    "model = MUXScaled_Linear(8,2,seq_len)"
   ]
  },
  {
   "cell_type": "code",
   "execution_count": 5,
   "metadata": {},
   "outputs": [],
   "source": [
    "weight = (torch.rand(8,2)*2-1)\n",
    "inputs = torch.rand(3,8)*2-1\n",
    "\n",
    "model.load_weight({'weight':weight})"
   ]
  },
  {
   "cell_type": "code",
   "execution_count": 6,
   "metadata": {},
   "outputs": [
    {
     "data": {
      "text/plain": [
       "tensor([[-1.6377,  2.1631],\n",
       "        [ 0.8271, -0.1143],\n",
       "        [ 0.9004,  1.4941]])"
      ]
     },
     "execution_count": 6,
     "metadata": {},
     "output_type": "execute_result"
    }
   ],
   "source": [
    "s2f(model.forward(f2s(inputs)))*8"
   ]
  },
  {
   "cell_type": "code",
   "execution_count": 7,
   "metadata": {},
   "outputs": [
    {
     "data": {
      "text/plain": [
       "tensor([[-1.7563,  2.1296],\n",
       "        [ 0.7746, -0.1193],\n",
       "        [ 0.9253,  1.6423]])"
      ]
     },
     "execution_count": 7,
     "metadata": {},
     "output_type": "execute_result"
    }
   ],
   "source": [
    "inputs @ weight"
   ]
  },
  {
   "cell_type": "code",
   "execution_count": 17,
   "metadata": {},
   "outputs": [],
   "source": [
    "class MUXScaled_LinearAct():\n",
    "    def __init__(self, \n",
    "                 scalar,\n",
    "                 in_features,\n",
    "                 out_features,\n",
    "                 seq_len,\n",
    "                 bias=False) -> None:\n",
    "        super().__init__()\n",
    "\n",
    "        self.scalar = scalar\n",
    "        self.down_scale = in_features\n",
    "        self.in_features = in_features\n",
    "        self.out_features = out_features\n",
    "        self.seq_len = seq_len\n",
    "        self.is_bias = bias\n",
    "        self.weight = None\n",
    "        self.bias = None\n",
    "\n",
    "        if self.scalar < 1/in_features: \n",
    "            raise NotImplementedError\n",
    "        \n",
    "    def load_weight(self, data):\n",
    "        print( torch.Size([self.in_features, self.out_features]))\n",
    "        assert data['weight'].shape == torch.Size([self.in_features, self.out_features])\n",
    "\n",
    "        self.weight = F2S(seq_len=self.seq_len)(data['weight'])\n",
    "\n",
    "        if self.is_bias:\n",
    "            assert data['bias'].shape == torch.Size([self.out_features])\n",
    "            self.bias = F2S(seq_len=self.seq_len)(data['bias'])\n",
    "            if len(self.bias.shape) <=2 : \n",
    "                self.bias = self.bias.unsqueeze(dim=0)\n",
    "            self.weight = torch.cat([self.weight, self.bias], dim=0)\n",
    "\n",
    "    def forward(self, inputs):\n",
    "        assert self.weight is not None\n",
    "        if self.is_bias:\n",
    "            bias_input = torch.ones(1,self.seq_len, dtype=torch.bool).expand(inputs.shape[:-2]+(1,-1,))\n",
    "            inputs = torch.concat([inputs, bias_input],dim=-2)\n",
    "\n",
    "        out = scaled_matmul(inputs, self.weight)\n",
    "        \n",
    "        out = stanh(out, r= round(self.scalar*2*self.in_features))\n",
    "        return out"
   ]
  },
  {
   "cell_type": "code",
   "execution_count": 18,
   "metadata": {},
   "outputs": [],
   "source": [
    "model = MUXScaled_LinearAct(1,8,2,seq_len)"
   ]
  },
  {
   "cell_type": "code",
   "execution_count": 19,
   "metadata": {},
   "outputs": [
    {
     "name": "stdout",
     "output_type": "stream",
     "text": [
      "torch.Size([8, 2])\n"
     ]
    }
   ],
   "source": [
    "weight = (torch.rand(8,2)*2-1)\n",
    "inputs = torch.rand(3,8)*2-1\n",
    "\n",
    "model.load_weight({'weight':weight})"
   ]
  },
  {
   "cell_type": "code",
   "execution_count": 20,
   "metadata": {},
   "outputs": [
    {
     "data": {
      "text/plain": [
       "tensor([[-0.7422,  0.8115],\n",
       "        [-0.8237,  0.0460],\n",
       "        [ 0.9768, -0.7980]])"
      ]
     },
     "execution_count": 20,
     "metadata": {},
     "output_type": "execute_result"
    }
   ],
   "source": [
    "s2f(model.forward(f2s(inputs)))"
   ]
  },
  {
   "cell_type": "code",
   "execution_count": 21,
   "metadata": {},
   "outputs": [
    {
     "data": {
      "text/plain": [
       "tensor([[-0.7024,  0.8127],\n",
       "        [-0.7792,  0.1834],\n",
       "        [ 0.9648, -0.8041]])"
      ]
     },
     "execution_count": 21,
     "metadata": {},
     "output_type": "execute_result"
    }
   ],
   "source": [
    "np.tanh(inputs @ weight)"
   ]
  },
  {
   "cell_type": "code",
   "execution_count": null,
   "metadata": {},
   "outputs": [],
   "source": []
  },
  {
   "cell_type": "code",
   "execution_count": null,
   "metadata": {},
   "outputs": [],
   "source": []
  }
 ],
 "metadata": {
  "kernelspec": {
   "display_name": "sc",
   "language": "python",
   "name": "python3"
  },
  "language_info": {
   "codemirror_mode": {
    "name": "ipython",
    "version": 3
   },
   "file_extension": ".py",
   "mimetype": "text/x-python",
   "name": "python",
   "nbconvert_exporter": "python",
   "pygments_lexer": "ipython3",
   "version": "3.9.19"
  }
 },
 "nbformat": 4,
 "nbformat_minor": 2
}
