{
 "cells": [
  {
   "cell_type": "code",
   "execution_count": 1,
   "metadata": {},
   "outputs": [],
   "source": [
    "import numpy as np\n",
    "import matplotlib.pyplot as plt\n",
    "import torch\n",
    "from scnn.convertors import F2S, S2F\n",
    "from scnn.bipolar_functions.operations import *"
   ]
  },
  {
   "cell_type": "code",
   "execution_count": 2,
   "metadata": {},
   "outputs": [
    {
     "data": {
      "text/plain": [
       "torch.Size([500])"
      ]
     },
     "execution_count": 2,
     "metadata": {},
     "output_type": "execute_result"
    }
   ],
   "source": [
    "x_in = torch.rand(500,1,10) * 2 -1\n",
    "y_in = torch.rand(500, 10,1) * 2 -1\n",
    "(x_in@y_in).squeeze().shape"
   ]
  },
  {
   "cell_type": "code",
   "execution_count": 50,
   "metadata": {},
   "outputs": [],
   "source": [
    "def get_mae(seq_len, input_dim, scalar):\n",
    "    \n",
    "    f2s = F2S(seq_len)\n",
    "    s2f = S2F()\n",
    "    x_in = (torch.rand(1,input_dim) * 2 -1)/(input_dim**0.5)\n",
    "    y_in = (torch.rand(1,input_dim) * 2 -1)/(input_dim**0.5)\n",
    "    print((x_in * y_in).sum(-1))\n",
    "    x_in_s = f2s(x_in)\n",
    "    y_in_s = f2s(y_in)\n",
    "\n",
    "    ground = torch.tanh(scalar*(x_in * y_in).sum(-1)) #shape = [500]\n",
    "    print(ground)\n",
    "    \n",
    "    mode = 'mux'\n",
    "    if mode == 'mux':\n",
    "        out = []\n",
    "        for i in range(1):\n",
    "            dot = scaled_dot(x_in_s[i],y_in_s[i])\n",
    "            out.append(s2f(stanh(dot,int(2*input_dim*scalar))))\n",
    "        mae_1 = torch.abs(torch.stack(out) -ground).mean()\n",
    "        # return mae\n",
    "\n",
    "    mode = 'apc'\n",
    "    if mode == 'apc':\n",
    "        inputs = mul(x_in_s,y_in_s)\n",
    "        \n",
    "        r = get_btanh_states(input_dim, scalar)\n",
    "        print('btanh states',r)\n",
    "        out = s2f(apc_btanh(inputs, r=r, num_au_layers=0))\n",
    "        print(out)\n",
    "        mae_2 = torch.abs(out-ground).mean()\n",
    "\n",
    "        \n",
    "\n",
    "    mode = 'axpc'\n",
    "    if mode == 'axpc':\n",
    "        out = s2f(apc_btanh(inputs, r=r, num_au_layers=1))\n",
    "        mae_3 = torch.abs(out-ground).mean()\n",
    "        # \n",
    "    # print('mux',mae_1)\n",
    "    # print('apc',mae_2)\n",
    "    # print('axpc',mae_3)\n",
    "    return mae_1, mae_2, mae_3"
   ]
  },
  {
   "cell_type": "code",
   "execution_count": 51,
   "metadata": {},
   "outputs": [
    {
     "name": "stdout",
     "output_type": "stream",
     "text": [
      "tensor([0.0388])\n",
      "tensor([0.0774])\n",
      "btanh states 420\n",
      "tensor([0.2090])\n"
     ]
    },
    {
     "data": {
      "text/plain": [
       "(tensor(0.5871), tensor(0.1316), tensor(0.1492))"
      ]
     },
     "execution_count": 51,
     "metadata": {},
     "output_type": "execute_result"
    }
   ],
   "source": [
    "get_mae(seq_len=1024, input_dim=100,scalar=2)"
   ]
  },
  {
   "cell_type": "code",
   "execution_count": 48,
   "metadata": {},
   "outputs": [
    {
     "data": {
      "text/plain": [
       "0.8331047465040887"
      ]
     },
     "execution_count": 48,
     "metadata": {},
     "output_type": "execute_result"
    }
   ],
   "source": [
    "np.tanh(0.5991*2)"
   ]
  },
  {
   "cell_type": "code",
   "execution_count": null,
   "metadata": {},
   "outputs": [],
   "source": []
  }
 ],
 "metadata": {
  "kernelspec": {
   "display_name": "sc",
   "language": "python",
   "name": "python3"
  },
  "language_info": {
   "codemirror_mode": {
    "name": "ipython",
    "version": 3
   },
   "file_extension": ".py",
   "mimetype": "text/x-python",
   "name": "python",
   "nbconvert_exporter": "python",
   "pygments_lexer": "ipython3",
   "version": "3.9.19"
  }
 },
 "nbformat": 4,
 "nbformat_minor": 2
}
