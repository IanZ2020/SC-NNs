{
 "cells": [
  {
   "cell_type": "code",
   "execution_count": 1,
   "metadata": {},
   "outputs": [],
   "source": [
    "from scnn.bipolar_functions import *\n",
    "from scnn.convertors import F2S, S2F\n",
    "import torch"
   ]
  },
  {
   "cell_type": "code",
   "execution_count": 2,
   "metadata": {},
   "outputs": [],
   "source": [
    "f2s = F2S(seq_len=10000, mode='bipolar')\n",
    "s2f = S2F('bipolar')"
   ]
  },
  {
   "cell_type": "code",
   "execution_count": 23,
   "metadata": {},
   "outputs": [],
   "source": [
    "x = f2s.generate(torch.rand(2,10))"
   ]
  },
  {
   "cell_type": "code",
   "execution_count": 13,
   "metadata": {},
   "outputs": [],
   "source": [
    "y = f2s.generate(torch.tensor(-0.3))"
   ]
  },
  {
   "cell_type": "code",
   "execution_count": 14,
   "metadata": {},
   "outputs": [
    {
     "data": {
      "text/plain": [
       "torch.Size([10000])"
      ]
     },
     "execution_count": 14,
     "metadata": {},
     "output_type": "execute_result"
    }
   ],
   "source": [
    "x.shape"
   ]
  },
  {
   "cell_type": "code",
   "execution_count": 15,
   "metadata": {},
   "outputs": [],
   "source": [
    "add = scaled_add()"
   ]
  },
  {
   "cell_type": "code",
   "execution_count": 16,
   "metadata": {},
   "outputs": [],
   "source": [
    "out = add(x,y,None)"
   ]
  },
  {
   "cell_type": "code",
   "execution_count": 17,
   "metadata": {},
   "outputs": [
    {
     "data": {
      "text/plain": [
       "tensor(0.0902)"
      ]
     },
     "execution_count": 17,
     "metadata": {},
     "output_type": "execute_result"
    }
   ],
   "source": [
    "s2f.evaluate(out)"
   ]
  },
  {
   "cell_type": "code",
   "execution_count": 18,
   "metadata": {},
   "outputs": [
    {
     "data": {
      "text/plain": [
       "torch.Size([10000])"
      ]
     },
     "execution_count": 18,
     "metadata": {},
     "output_type": "execute_result"
    }
   ],
   "source": [
    "out.shape"
   ]
  },
  {
   "cell_type": "code",
   "execution_count": 19,
   "metadata": {},
   "outputs": [
    {
     "data": {
      "text/plain": [
       "tensor(5451)"
      ]
     },
     "execution_count": 19,
     "metadata": {},
     "output_type": "execute_result"
    }
   ],
   "source": [
    "out.sum()"
   ]
  },
  {
   "cell_type": "code",
   "execution_count": 2,
   "metadata": {},
   "outputs": [],
   "source": [
    "x = torch.rand(3,10)"
   ]
  },
  {
   "cell_type": "code",
   "execution_count": 4,
   "metadata": {},
   "outputs": [
    {
     "data": {
      "text/plain": [
       "tensor(2)"
      ]
     },
     "execution_count": 4,
     "metadata": {},
     "output_type": "execute_result"
    }
   ],
   "source": [
    "\n",
    "torch.full(x.shape[:-2], 2)"
   ]
  },
  {
   "cell_type": "code",
   "execution_count": 10,
   "metadata": {},
   "outputs": [
    {
     "data": {
      "text/plain": [
       "torch.Size([2, 3, 10000])"
      ]
     },
     "execution_count": 10,
     "metadata": {},
     "output_type": "execute_result"
    }
   ],
   "source": [
    "x.shape"
   ]
  },
  {
   "cell_type": "code",
   "execution_count": 11,
   "metadata": {},
   "outputs": [
    {
     "data": {
      "text/plain": [
       "torch.Size([2, 10000])"
      ]
     },
     "execution_count": 11,
     "metadata": {},
     "output_type": "execute_result"
    }
   ],
   "source": [
    "torch.sum(x,dim=-2).shape"
   ]
  },
  {
   "cell_type": "code",
   "execution_count": 12,
   "metadata": {},
   "outputs": [
    {
     "data": {
      "text/plain": [
       "torch.Size([2, 3, 10000])"
      ]
     },
     "execution_count": 12,
     "metadata": {},
     "output_type": "execute_result"
    }
   ],
   "source": [
    "x.shape"
   ]
  },
  {
   "cell_type": "code",
   "execution_count": 14,
   "metadata": {},
   "outputs": [
    {
     "data": {
      "text/plain": [
       "torch.Size([2, 3, 10000])"
      ]
     },
     "execution_count": 14,
     "metadata": {},
     "output_type": "execute_result"
    }
   ],
   "source": [
    "x.shape"
   ]
  },
  {
   "cell_type": "code",
   "execution_count": 15,
   "metadata": {},
   "outputs": [],
   "source": [
    "mask = x==1"
   ]
  },
  {
   "cell_type": "code",
   "execution_count": 16,
   "metadata": {},
   "outputs": [],
   "source": [
    "x[mask]=0"
   ]
  },
  {
   "cell_type": "code",
   "execution_count": 18,
   "metadata": {},
   "outputs": [
    {
     "data": {
      "text/plain": [
       "torch.Size([2, 3, 10000])"
      ]
     },
     "execution_count": 18,
     "metadata": {},
     "output_type": "execute_result"
    }
   ],
   "source": [
    "x.shape"
   ]
  },
  {
   "cell_type": "code",
   "execution_count": 20,
   "metadata": {},
   "outputs": [
    {
     "data": {
      "text/plain": [
       "3"
      ]
     },
     "execution_count": 20,
     "metadata": {},
     "output_type": "execute_result"
    }
   ],
   "source": [
    "x.dim()"
   ]
  },
  {
   "cell_type": "code",
   "execution_count": 86,
   "metadata": {},
   "outputs": [],
   "source": [
    "def counter(x):\n",
    "    return torch.sum(x, dim=-2, dtype=torch.int16)\n",
    "def neuron_c(inputs, r: int):\n",
    "    num_in, seq_len = inputs.shape[-2], inputs.shape[-1]\n",
    "    s_max = r-1\n",
    "    s_half = (r-1)/2.\n",
    "\n",
    "    s = torch.full(inputs.shape[:-2], s_half, dtype=torch.int16)\n",
    "    v = counter(inputs)*2 - num_in\n",
    "    out = torch.zeros(inputs.shape[:-2]+(seq_len,), dtype=torch.bool)\n",
    "\n",
    "    for i in range(seq_len):\n",
    "        s = s + v.select(dim=-1, index=i)\n",
    "        overflow_idx = s > s_max\n",
    "        underflow_idx = s < 0\n",
    "        s[overflow_idx] = s_max\n",
    "        s[underflow_idx] = 0\n",
    "        \n",
    "        out[..., i] = s > s_half\n",
    "    return out"
   ]
  },
  {
   "cell_type": "code",
   "execution_count": 96,
   "metadata": {},
   "outputs": [],
   "source": [
    "x = f2s.generate(torch.rand(100)*2-1)\n",
    "x_real = s2f.evaluate(x)"
   ]
  },
  {
   "cell_type": "code",
   "execution_count": 97,
   "metadata": {},
   "outputs": [
    {
     "data": {
      "text/plain": [
       "torch.Size([100, 10000])"
      ]
     },
     "execution_count": 97,
     "metadata": {},
     "output_type": "execute_result"
    }
   ],
   "source": [
    "x.shape"
   ]
  },
  {
   "cell_type": "code",
   "execution_count": 98,
   "metadata": {},
   "outputs": [
    {
     "data": {
      "text/plain": [
       "tensor(0.8084)"
      ]
     },
     "execution_count": 98,
     "metadata": {},
     "output_type": "execute_result"
    }
   ],
   "source": [
    "s2f.evaluate(neuron_c(x,r=2))"
   ]
  },
  {
   "cell_type": "code",
   "execution_count": 99,
   "metadata": {},
   "outputs": [
    {
     "data": {
      "text/plain": [
       "tensor(0.7613)"
      ]
     },
     "execution_count": 99,
     "metadata": {},
     "output_type": "execute_result"
    }
   ],
   "source": [
    "import numpy as np\n",
    "np.tanh(0.10*x_real.sum(dim=-1))"
   ]
  },
  {
   "cell_type": "code",
   "execution_count": null,
   "metadata": {},
   "outputs": [],
   "source": []
  },
  {
   "cell_type": "code",
   "execution_count": 32,
   "metadata": {},
   "outputs": [],
   "source": [
    "x_real = s2f.evaluate(x)"
   ]
  },
  {
   "cell_type": "code",
   "execution_count": 33,
   "metadata": {},
   "outputs": [
    {
     "data": {
      "text/plain": [
       "tensor([[0.4614, 0.6720, 0.1362, 0.4000, 0.7102, 0.3472, 0.5478, 0.6186, 0.1210,\n",
       "         0.3720],\n",
       "        [0.2442, 0.9326, 0.6950, 0.2208, 0.2060, 0.7914, 0.8724, 0.1700, 0.1674,\n",
       "         0.4180]])"
      ]
     },
     "execution_count": 33,
     "metadata": {},
     "output_type": "execute_result"
    }
   ],
   "source": [
    "x_real"
   ]
  },
  {
   "cell_type": "code",
   "execution_count": 145,
   "metadata": {},
   "outputs": [],
   "source": [
    "x = f2s.generate(torch.rand(256)*2-1)"
   ]
  },
  {
   "cell_type": "code",
   "execution_count": 1,
   "metadata": {},
   "outputs": [],
   "source": [
    "import torch\n",
    "from scnn.bipolar_functions.operations import *\n",
    "from scnn.convertors import F2S\n",
    "from scnn.convertors import F2S, S2F\n",
    "\n",
    "\n",
    "class MUXScaled_Linear():\n",
    "    def __init__(self, \n",
    "                 in_features,\n",
    "                 out_features,\n",
    "                 seq_len,\n",
    "                 bias=False) -> None:\n",
    "        super().__init__()\n",
    "\n",
    "        self.down_scale = in_features\n",
    "        self.in_features = in_features\n",
    "        self.out_features = out_features\n",
    "        self.seq_len = seq_len\n",
    "        self.is_bias = bias\n",
    "        self.weight = None\n",
    "        self.bias = None\n",
    "\n",
    "    def load_weight(self, data):\n",
    "        assert data['weight'].shape == torch.Size([self.in_features, self.out_features])\n",
    "\n",
    "        self.weight = F2S(seq_len=self.seq_len)(data['weight'])\n",
    "\n",
    "        if self.is_bias:\n",
    "            assert data['bias'].shape == torch.Size([self.out_features])\n",
    "            self.bias = F2S(seq_len=self.seq_len)(data['bias']/self.in_features)\n",
    "\n",
    "    def forward(self, inputs):\n",
    "        assert self.weight is not None\n",
    "        out = scaled_matmul(inputs, self.weight)\n",
    "\n",
    "        out = scaled_add(out, self.bias)\n",
    "\n",
    "        return out\n",
    "\n",
    "\n",
    "class APCLinear():\n",
    "    def __init__(self, \n",
    "                 in_features,\n",
    "                 out_features,\n",
    "                 seq_len,\n",
    "                 btanh_scalar,\n",
    "                 bias=False) -> None:\n",
    "        super().__init__()\n",
    "\n",
    "        self.in_features = in_features\n",
    "        self.out_features = out_features\n",
    "        self.seq_len = seq_len\n",
    "        self.is_bias = bias\n",
    "        self.weight = None\n",
    "        self.bias = None\n",
    "        self.btanh_scalar =  btanh_scalar\n",
    "        self.states = self.get_btanh_states()\n",
    "        \n",
    "    def load_weight(self, data):\n",
    "        assert data['weight'].shape == torch.Size([self.in_features, self.out_features])\n",
    "\n",
    "        self.weight = F2S(seq_len=self.seq_len)(data['weight'])\n",
    "\n",
    "        if self.is_bias:\n",
    "            assert data['bias'].shape == torch.Size([self.out_features])\n",
    "            self.bias = F2S(seq_len=self.seq_len)(data['bias']/self.in_features)\n",
    "    def get_btanh_states(self,):\n",
    "        q = 1.835*(2*self.in_features)**(-0.5552)\n",
    "        r_prime = 2*self.in_features + 2*(self.btanh_scalar-1)*(self.in_features-1)/(1-q)\n",
    "        return int(round(r_prime/2.)*2)\n",
    "\n",
    "    \n",
    "    def forward(self, inputs):\n",
    "        out = torch.zeros(inputs.shape[:-2] + (self.out_features,self.seq_len,))\n",
    "\n",
    "        for i in range(self.out_features):\n",
    "            out[...,i,:] = neuron_c(mul(inputs, self.weight[:,i]), self.states)\n",
    "\n",
    "        if self.bias:\n",
    "            out = scaled_add(out,self.bias)\n",
    "            \n",
    "        return out\n"
   ]
  },
  {
   "cell_type": "code",
   "execution_count": 56,
   "metadata": {},
   "outputs": [],
   "source": [
    "model1 = APCLinear(in_features=100, out_features=10, seq_len=16384*4, btanh_scalar=1)"
   ]
  },
  {
   "cell_type": "code",
   "execution_count": 57,
   "metadata": {},
   "outputs": [],
   "source": [
    "weight = torch.rand(100,10)*2-1"
   ]
  },
  {
   "cell_type": "code",
   "execution_count": 58,
   "metadata": {},
   "outputs": [],
   "source": [
    "model1.load_weight(data={'weight':weight})"
   ]
  },
  {
   "cell_type": "code",
   "execution_count": 59,
   "metadata": {},
   "outputs": [],
   "source": [
    "inputs = (torch.rand(2,3,100)*2-1)/4"
   ]
  },
  {
   "cell_type": "code",
   "execution_count": 60,
   "metadata": {},
   "outputs": [],
   "source": [
    "inputs_sc = F2S(16384*4).generate(inputs)"
   ]
  },
  {
   "cell_type": "code",
   "execution_count": 61,
   "metadata": {},
   "outputs": [
    {
     "data": {
      "text/plain": [
       "torch.Size([2, 3, 100, 65536])"
      ]
     },
     "execution_count": 61,
     "metadata": {},
     "output_type": "execute_result"
    }
   ],
   "source": [
    "inputs_sc.shape"
   ]
  },
  {
   "cell_type": "code",
   "execution_count": 62,
   "metadata": {},
   "outputs": [],
   "source": [
    "out_sc = model1.forward(inputs_sc)"
   ]
  },
  {
   "cell_type": "code",
   "execution_count": 63,
   "metadata": {},
   "outputs": [
    {
     "data": {
      "text/plain": [
       "tensor([[[ 0.7106,  0.6154, -0.1577, -0.1710,  0.3834,  0.2123, -0.5586,\n",
       "          -0.4219, -0.4800,  0.4801],\n",
       "         [ 0.2551, -0.6721,  0.7400, -0.3076, -0.5714, -0.0507,  0.5511,\n",
       "          -0.5118, -0.2481,  0.3784],\n",
       "         [-0.4697, -0.4018,  0.4093,  0.7182, -0.3066,  0.1433,  0.4494,\n",
       "           0.7934,  0.6938,  0.8160]],\n",
       "\n",
       "        [[-0.1683,  0.7631,  0.4793,  0.7556,  0.3472, -0.6100, -0.2180,\n",
       "           0.6491,  0.5699,  0.7145],\n",
       "         [-0.0338,  0.6920, -0.4961,  0.7137, -0.7158, -0.2650,  0.7094,\n",
       "           0.5712,  0.0967, -0.3492],\n",
       "         [-0.6051,  0.6844, -0.6874,  0.1285,  0.3412, -0.2303,  0.1494,\n",
       "          -0.5961, -0.2078, -0.3615]]])"
      ]
     },
     "execution_count": 63,
     "metadata": {},
     "output_type": "execute_result"
    }
   ],
   "source": [
    "S2F().evaluate(out_sc)"
   ]
  },
  {
   "cell_type": "code",
   "execution_count": 64,
   "metadata": {},
   "outputs": [
    {
     "name": "stdout",
     "output_type": "stream",
     "text": [
      "tensor([[[ 0.8361,  0.7925, -0.2461, -0.2287,  0.5458,  0.3379, -0.6446,\n",
      "          -0.6053, -0.5767,  0.6064],\n",
      "         [ 0.3385, -0.8119,  0.9025, -0.4361, -0.7331, -0.0572,  0.6746,\n",
      "          -0.6463, -0.3040,  0.4721],\n",
      "         [-0.7006, -0.6124,  0.5567,  0.8145, -0.3914,  0.2598,  0.6097,\n",
      "           0.9107,  0.8507,  0.9293]],\n",
      "\n",
      "        [[-0.2821,  0.8987,  0.5870,  0.8751,  0.4560, -0.7826, -0.2607,\n",
      "           0.8181,  0.7911,  0.8337],\n",
      "         [ 0.0424,  0.8590, -0.6890,  0.8801, -0.8859, -0.2709,  0.8446,\n",
      "           0.7114,  0.1187, -0.4721],\n",
      "         [-0.7831,  0.8326, -0.8410,  0.2229,  0.4600, -0.4762,  0.1551,\n",
      "          -0.6538, -0.1774, -0.5493]]])\n"
     ]
    }
   ],
   "source": [
    "out = torch.tanh(inputs @ weight)\n",
    "print(out)"
   ]
  },
  {
   "cell_type": "code",
   "execution_count": 107,
   "metadata": {},
   "outputs": [],
   "source": [
    "inputs = (torch.rand(768)*2-1)/8\n",
    "inputs_sc = F2S(16).generate(inputs)"
   ]
  },
  {
   "cell_type": "code",
   "execution_count": 104,
   "metadata": {},
   "outputs": [],
   "source": [
    "apc = ap_counter(in_features=768, num_au_layers=1)"
   ]
  },
  {
   "cell_type": "code",
   "execution_count": 105,
   "metadata": {},
   "outputs": [
    {
     "data": {
      "text/plain": [
       "tensor([414, 382, 422, 386, 384, 392, 404, 382, 394, 372, 410, 372, 370, 372,\n",
       "        398, 410], dtype=torch.int16)"
      ]
     },
     "execution_count": 105,
     "metadata": {},
     "output_type": "execute_result"
    }
   ],
   "source": [
    "apc(inputs_sc)"
   ]
  },
  {
   "cell_type": "code",
   "execution_count": 106,
   "metadata": {},
   "outputs": [
    {
     "data": {
      "text/plain": [
       "tensor([406, 385, 406, 387, 391, 386, 413, 380, 383, 378, 411, 386, 378, 369,\n",
       "        388, 395])"
      ]
     },
     "execution_count": 106,
     "metadata": {},
     "output_type": "execute_result"
    }
   ],
   "source": [
    "inputs_sc.sum(dim=-2)"
   ]
  },
  {
   "cell_type": "code",
   "execution_count": 79,
   "metadata": {},
   "outputs": [
    {
     "data": {
      "text/plain": [
       "tensor(1.6205)"
      ]
     },
     "execution_count": 79,
     "metadata": {},
     "output_type": "execute_result"
    }
   ],
   "source": [
    "S2F()(F2S(16384*4)(inputs)).sum()"
   ]
  },
  {
   "cell_type": "code",
   "execution_count": 88,
   "metadata": {},
   "outputs": [
    {
     "data": {
      "text/plain": [
       "tensor(0.4356)"
      ]
     },
     "execution_count": 88,
     "metadata": {},
     "output_type": "execute_result"
    }
   ],
   "source": [
    "S2F()(neuron_c(F2S(16384*4)(inputs), 256))"
   ]
  },
  {
   "cell_type": "code",
   "execution_count": 50,
   "metadata": {},
   "outputs": [
    {
     "data": {
      "text/plain": [
       "0.1916378942826471"
      ]
     },
     "execution_count": 50,
     "metadata": {},
     "output_type": "execute_result"
    }
   ],
   "source": [
    "def get_btanh_scalar(in_features, num_states):\n",
    "    q = 1.835*(2*in_features)**(-0.5552)\n",
    "    return (1-q)/(2*(in_features-1))*(num_states-2*in_features)+1\n",
    "\n",
    "def get_btanh_states(in_features, scalar):\n",
    "    q = 1.835*(2*in_features)**(-0.5552)\n",
    "    r_prime = 2*in_features + 2*(scalar-1)*(in_features-1)/(1-q)\n",
    "    return int(round(r_prime/2.)*2)\n",
    "\n",
    "get_btanh_scalar(768, 256)"
   ]
  },
  {
   "cell_type": "code",
   "execution_count": null,
   "metadata": {},
   "outputs": [],
   "source": []
  },
  {
   "cell_type": "code",
   "execution_count": null,
   "metadata": {},
   "outputs": [],
   "source": []
  }
 ],
 "metadata": {
  "kernelspec": {
   "display_name": "sc",
   "language": "python",
   "name": "python3"
  },
  "language_info": {
   "codemirror_mode": {
    "name": "ipython",
    "version": 3
   },
   "file_extension": ".py",
   "mimetype": "text/x-python",
   "name": "python",
   "nbconvert_exporter": "python",
   "pygments_lexer": "ipython3",
   "version": "3.9.19"
  }
 },
 "nbformat": 4,
 "nbformat_minor": 2
}
