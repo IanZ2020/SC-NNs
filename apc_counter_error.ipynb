{
 "cells": [
  {
   "cell_type": "code",
   "execution_count": 1,
   "metadata": {},
   "outputs": [],
   "source": [
    "from scnn.bipolar_functions.operations import *\n",
    "from scnn.convertors.sng import *\n",
    "import numpy as np\n",
    "import matplotlib.pyplot as plt"
   ]
  },
  {
   "cell_type": "code",
   "execution_count": 3,
   "metadata": {},
   "outputs": [],
   "source": [
    "f2s = F2S(seq_len=1024)"
   ]
  },
  {
   "cell_type": "code",
   "execution_count": 20,
   "metadata": {},
   "outputs": [],
   "source": [
    "sample = f2s(torch.rand(128)*2-1)"
   ]
  },
  {
   "cell_type": "code",
   "execution_count": 5,
   "metadata": {},
   "outputs": [
    {
     "data": {
      "text/plain": [
       "torch.Size([128, 1024])"
      ]
     },
     "execution_count": 5,
     "metadata": {},
     "output_type": "execute_result"
    }
   ],
   "source": [
    "sample.shape"
   ]
  },
  {
   "cell_type": "code",
   "execution_count": 7,
   "metadata": {},
   "outputs": [],
   "source": [
    "class ap_counter():\n",
    "    def __init__(self, in_features=16, num_au_layers=1):\n",
    "        self.num_au_layers = num_au_layers\n",
    "        self.in_features = in_features\n",
    "\n",
    "    def approx_unit(self, x: torch.tensor) -> torch.tensor:\n",
    "        seq_len = x.shape[-1]\n",
    "        half = int(seq_len/2)\n",
    "        # assert x.shape[-2] <= self.in_features\n",
    "        # if x.shape[-2] < self.in_features:\n",
    "        #     x = torch.cat([x, torch.zeros(x.shape[:-2]+(self.in_features-x.shape[-2],seq_len,), dtype=torch.bool)],dim=-2)\n",
    "\n",
    "        idx1, idx2, idx3, idx4 = [torch.arange(i, x.shape[-2], 4) for i in range(4)]\n",
    "        grp1, grp2, grp3, grp4 = x[...,idx1,:], x[...,idx2,:], x[...,idx3,:], x[...,idx4,:]\n",
    "\n",
    "        \n",
    "        out1 = torch.concat([torch.logical_or(grp1[...,:half],grp2[...,:half]), torch.logical_and(grp3[...,:half],grp4[...,:half])], dim=-2)\n",
    "        out2 = torch.concat([torch.logical_and(grp1[...,half:],grp2[...,half:]), torch.logical_or(grp3[...,half:],grp4[...,half:])], dim=-2)\n",
    "        \n",
    "        \n",
    "        return torch.concat([out1,out2],dim=-1)\n",
    "    \n",
    "    def counter(self, x):\n",
    "        return torch.sum(x, dim=-2, dtype=torch.int16)\n",
    "    \n",
    "    def __call__(self, x):\n",
    "        count = 0\n",
    "        for i in range(self.num_au_layers):\n",
    "            num_units = int(x.shape[-2]/4)\n",
    "            x, res = x[...,0:4*num_units,:], x[...,4*num_units:,:] \n",
    "            x = self.approx_unit(x)\n",
    "            count += torch.tensor(2**i, dtype=torch.int16)*self.counter(res)\n",
    "        return torch.tensor(2**self.num_au_layers, dtype=torch.int16)*self.counter(x)+count"
   ]
  },
  {
   "cell_type": "code",
   "execution_count": 14,
   "metadata": {},
   "outputs": [],
   "source": [
    "apc_1=ap_counter(in_features=128, num_au_layers=1)\n",
    "apc_0=ap_counter(in_features=128, num_au_layers=0)"
   ]
  },
  {
   "cell_type": "code",
   "execution_count": 31,
   "metadata": {},
   "outputs": [
    {
     "data": {
      "text/plain": [
       "tensor(0.0025)"
      ]
     },
     "execution_count": 31,
     "metadata": {},
     "output_type": "execute_result"
    }
   ],
   "source": [
    "sample = f2s(torch.rand(128)*2-1)\n",
    "(apc_1(sample).sum()-apc_0(sample).sum())/apc_0(sample).sum()"
   ]
  },
  {
   "cell_type": "code",
   "execution_count": 26,
   "metadata": {},
   "outputs": [
    {
     "data": {
      "text/plain": [
       "tensor(66536)"
      ]
     },
     "execution_count": 26,
     "metadata": {},
     "output_type": "execute_result"
    }
   ],
   "source": []
  },
  {
   "cell_type": "code",
   "execution_count": 27,
   "metadata": {},
   "outputs": [
    {
     "data": {
      "text/plain": [
       "tensor(-0.0197)"
      ]
     },
     "execution_count": 27,
     "metadata": {},
     "output_type": "execute_result"
    }
   ],
   "source": []
  },
  {
   "cell_type": "code",
   "execution_count": null,
   "metadata": {},
   "outputs": [],
   "source": []
  }
 ],
 "metadata": {
  "kernelspec": {
   "display_name": "sc",
   "language": "python",
   "name": "python3"
  },
  "language_info": {
   "codemirror_mode": {
    "name": "ipython",
    "version": 3
   },
   "file_extension": ".py",
   "mimetype": "text/x-python",
   "name": "python",
   "nbconvert_exporter": "python",
   "pygments_lexer": "ipython3",
   "version": "3.9.19"
  }
 },
 "nbformat": 4,
 "nbformat_minor": 2
}
