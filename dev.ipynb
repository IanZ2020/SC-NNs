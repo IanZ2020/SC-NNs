{
 "cells": [
  {
   "cell_type": "code",
   "execution_count": 22,
   "metadata": {},
   "outputs": [],
   "source": [
    "from scnn.bipolar_functions.layers import *\n",
    "from scnn.bipolar_functions.operations import *\n",
    "import matplotlib.pyplot as plt\n",
    "import tensorflow as tf\n",
    "import numpy as np\n",
    "import torch"
   ]
  },
  {
   "cell_type": "code",
   "execution_count": 2,
   "metadata": {},
   "outputs": [],
   "source": [
    "from scnn.convertors import F2S, S2F"
   ]
  },
  {
   "cell_type": "code",
   "execution_count": 3,
   "metadata": {},
   "outputs": [],
   "source": [
    "import mnist"
   ]
  },
  {
   "cell_type": "code",
   "execution_count": 87,
   "metadata": {},
   "outputs": [],
   "source": [
    "(x_test, y_test) = tf.keras.datasets.mnist.load_data()[1]"
   ]
  },
  {
   "cell_type": "code",
   "execution_count": 48,
   "metadata": {},
   "outputs": [],
   "source": [
    "x_test, y_test = torch.tensor(x_test) , torch.tensor(y_test)"
   ]
  },
  {
   "cell_type": "code",
   "execution_count": 4,
   "metadata": {},
   "outputs": [
    {
     "data": {
      "text/plain": [
       "torch.Size([10000, 784])"
      ]
     },
     "execution_count": 4,
     "metadata": {},
     "output_type": "execute_result"
    }
   ],
   "source": [
    "mnist.x_test.flatten(-2,-1).shape"
   ]
  },
  {
   "cell_type": "code",
   "execution_count": 5,
   "metadata": {},
   "outputs": [],
   "source": [
    "def get_real_weight(weight, kk):\n",
    "    return torch.tanh(weight*kk)"
   ]
  },
  {
   "cell_type": "code",
   "execution_count": 6,
   "metadata": {},
   "outputs": [],
   "source": [
    "class model():\n",
    "    def __init__(self, seq_len, data):\n",
    "        self.in_features = 784\n",
    "        self.out_features = 10\n",
    "        \n",
    "        self.nmk1 = data['layer1']['nmk']\n",
    "        self.nmk2 = data['layer2']['nmk']\n",
    "\n",
    "        self.layer1 = APCLinearAct(\n",
    "            in_features=784,\n",
    "            out_features=128,\n",
    "            seq_len=seq_len,\n",
    "            scalar=self.nmk1,\n",
    "            num_au_layers=1,\n",
    "            is_bias=True,\n",
    "        )\n",
    "\n",
    "\n",
    "        self.layer2 = APCLinear(\n",
    "            in_features=128,\n",
    "            out_features=10,\n",
    "            seq_len=seq_len,\n",
    "            scalar=self.nmk2,\n",
    "            num_au_layers=1,\n",
    "        )\n",
    "\n",
    "        self.load_weight(data)\n",
    "\n",
    "    def load_weight(self, data):\n",
    "        self.layer1.load_weight(data['layer1'])\n",
    "        self.layer2.load_weight(data['layer2'])\n",
    "\n",
    "\n",
    "    def forward(self, inputs):\n",
    "        out = self.layer1.forward(inputs.flatten(-3,-2))\n",
    "        out = self.layer2.forward(out)\n",
    "        return torch.softmax(out,dim=-1)"
   ]
  },
  {
   "cell_type": "code",
   "execution_count": 7,
   "metadata": {},
   "outputs": [],
   "source": [
    "data_raw = np.load('/Users/ian/Desktop/github/sc/adiabaticbinary/output_2nmk_2bias/Dse__w20.0_epoc14.0.npz')\n",
    "kk = data_raw['arr_3']"
   ]
  },
  {
   "cell_type": "code",
   "execution_count": 8,
   "metadata": {},
   "outputs": [
    {
     "data": {
      "text/plain": [
       "array(20., dtype=float32)"
      ]
     },
     "execution_count": 8,
     "metadata": {},
     "output_type": "execute_result"
    }
   ],
   "source": [
    "kk"
   ]
  },
  {
   "cell_type": "code",
   "execution_count": 9,
   "metadata": {},
   "outputs": [
    {
     "name": "stdout",
     "output_type": "stream",
     "text": [
      "(784, 128)\n",
      "(128,)\n",
      "()\n",
      "()\n",
      "(128, 10)\n",
      "(10,)\n",
      "()\n",
      "()\n"
     ]
    }
   ],
   "source": [
    "for x in data_raw:\n",
    "    print(data_raw[x].shape)\n"
   ]
  },
  {
   "cell_type": "code",
   "execution_count": 10,
   "metadata": {},
   "outputs": [],
   "source": [
    "data_raw = {x:torch.tensor(data_raw[x]) for x in data_raw}"
   ]
  },
  {
   "cell_type": "code",
   "execution_count": 11,
   "metadata": {},
   "outputs": [],
   "source": [
    "data = {\n",
    "    'layer1':{\n",
    "        'weight':get_real_weight(data_raw['arr_0'],kk),\n",
    "        'bias':get_real_weight(data_raw['arr_1'],kk),\n",
    "        'nmk':data_raw['arr_2']\n",
    "    },\n",
    "    'layer2':{\n",
    "        'weight':get_real_weight(data_raw['arr_4'],kk),\n",
    "        'bias':get_real_weight(data_raw['arr_5'],kk),\n",
    "        'nmk':data_raw['arr_6']\n",
    "    }\n",
    "}"
   ]
  },
  {
   "cell_type": "code",
   "execution_count": 12,
   "metadata": {},
   "outputs": [],
   "source": [
    "seq_len=1024"
   ]
  },
  {
   "cell_type": "code",
   "execution_count": 13,
   "metadata": {},
   "outputs": [],
   "source": [
    "model0 = model(seq_len=seq_len,data=data)"
   ]
  },
  {
   "cell_type": "code",
   "execution_count": 68,
   "metadata": {},
   "outputs": [],
   "source": [
    "inputs = x_test[1]"
   ]
  },
  {
   "cell_type": "code",
   "execution_count": 69,
   "metadata": {},
   "outputs": [
    {
     "data": {
      "text/plain": [
       "torch.Size([28, 28])"
      ]
     },
     "execution_count": 69,
     "metadata": {},
     "output_type": "execute_result"
    }
   ],
   "source": [
    "inputs.shape"
   ]
  },
  {
   "cell_type": "code",
   "execution_count": 70,
   "metadata": {},
   "outputs": [],
   "source": [
    "f2s = F2S(seq_len=seq_len)"
   ]
  },
  {
   "cell_type": "code",
   "execution_count": 71,
   "metadata": {},
   "outputs": [
    {
     "data": {
      "text/plain": [
       "torch.Size([28, 28, 1024])"
      ]
     },
     "execution_count": 71,
     "metadata": {},
     "output_type": "execute_result"
    }
   ],
   "source": [
    "f2s(inputs).shape"
   ]
  },
  {
   "cell_type": "code",
   "execution_count": 72,
   "metadata": {},
   "outputs": [],
   "source": [
    "out = model0.forward(f2s(inputs))"
   ]
  },
  {
   "cell_type": "code",
   "execution_count": 77,
   "metadata": {},
   "outputs": [
    {
     "data": {
      "text/plain": [
       "tensor([4.6972e-05, 3.5989e-03, 9.9485e-01, 1.0620e-03, 6.8410e-07, 2.5390e-04,\n",
       "        1.2930e-05, 7.7162e-07, 1.6717e-04, 9.8982e-06])"
      ]
     },
     "execution_count": 77,
     "metadata": {},
     "output_type": "execute_result"
    }
   ],
   "source": [
    "out"
   ]
  },
  {
   "cell_type": "code",
   "execution_count": 83,
   "metadata": {},
   "outputs": [],
   "source": [
    "maxout = out.max(dim=-1)"
   ]
  },
  {
   "cell_type": "code",
   "execution_count": 86,
   "metadata": {},
   "outputs": [
    {
     "data": {
      "text/plain": [
       "tensor(True)"
      ]
     },
     "execution_count": 86,
     "metadata": {},
     "output_type": "execute_result"
    }
   ],
   "source": [
    "maxout[1] == y_test[1]"
   ]
  },
  {
   "cell_type": "code",
   "execution_count": 82,
   "metadata": {},
   "outputs": [
    {
     "ename": "TypeError",
     "evalue": "one_hot(): argument 'input' (position 1) must be Tensor, not int",
     "output_type": "error",
     "traceback": [
      "\u001b[0;31m---------------------------------------------------------------------------\u001b[0m",
      "\u001b[0;31mTypeError\u001b[0m                                 Traceback (most recent call last)",
      "Cell \u001b[0;32mIn[82], line 1\u001b[0m\n\u001b[0;32m----> 1\u001b[0m \u001b[43mtorch\u001b[49m\u001b[38;5;241;43m.\u001b[39;49m\u001b[43mnn\u001b[49m\u001b[38;5;241;43m.\u001b[39;49m\u001b[43mfunctional\u001b[49m\u001b[38;5;241;43m.\u001b[39;49m\u001b[43mone_hot\u001b[49m\u001b[43m(\u001b[49m\u001b[38;5;241;43m1\u001b[39;49m\u001b[43m)\u001b[49m\n",
      "\u001b[0;31mTypeError\u001b[0m: one_hot(): argument 'input' (position 1) must be Tensor, not int"
     ]
    }
   ],
   "source": [
    "torch.nn.functional.one_hot(1)"
   ]
  },
  {
   "cell_type": "code",
   "execution_count": null,
   "metadata": {},
   "outputs": [],
   "source": []
  },
  {
   "cell_type": "code",
   "execution_count": 74,
   "metadata": {},
   "outputs": [
    {
     "data": {
      "text/plain": [
       "False"
      ]
     },
     "execution_count": 74,
     "metadata": {},
     "output_type": "execute_result"
    }
   ],
   "source": [
    "y_test[1] == maxout"
   ]
  },
  {
   "cell_type": "code",
   "execution_count": 75,
   "metadata": {},
   "outputs": [
    {
     "data": {
      "image/png": "[encoded data removed]",
      "text/plain": [
       "<Figure size 640x480 with 1 Axes>"
      ]
     },
     "metadata": {},
     "output_type": "display_data"
    }
   ],
   "source": [
    "image = inputs\n",
    "label = y_test[1]\n",
    "# Plot the image\n",
    "plt.imshow(image, cmap='gray')\n",
    "plt.title('Label: {}'.format(label))\n",
    "plt.axis('off')  # Turn off axis\n",
    "plt.show()"
   ]
  },
  {
   "cell_type": "code",
   "execution_count": 105,
   "metadata": {},
   "outputs": [],
   "source": [
    "x = torch.rand(3,4)"
   ]
  },
  {
   "cell_type": "code",
   "execution_count": 106,
   "metadata": {},
   "outputs": [],
   "source": [
    "y = torch.rand(4,5)"
   ]
  },
  {
   "cell_type": "code",
   "execution_count": 108,
   "metadata": {},
   "outputs": [
    {
     "ename": "RuntimeError",
     "evalue": "The size of tensor a (3) must match the size of tensor b (5) at non-singleton dimension 0",
     "output_type": "error",
     "traceback": [
      "\u001b[0;31m---------------------------------------------------------------------------\u001b[0m",
      "\u001b[0;31mRuntimeError\u001b[0m                              Traceback (most recent call last)",
      "Cell \u001b[0;32mIn[108], line 1\u001b[0m\n\u001b[0;32m----> 1\u001b[0m \u001b[43mx\u001b[49m\u001b[38;5;241;43m*\u001b[39;49m\u001b[43my\u001b[49m\u001b[38;5;241;43m.\u001b[39;49m\u001b[43mT\u001b[49m\n",
      "\u001b[0;31mRuntimeError\u001b[0m: The size of tensor a (3) must match the size of tensor b (5) at non-singleton dimension 0"
     ]
    }
   ],
   "source": [
    "(x@y).shape"
   ]
  },
  {
   "cell_type": "code",
   "execution_count": 121,
   "metadata": {},
   "outputs": [],
   "source": [
    "import tensorflow as tf\n",
    "x = tf.ones([3,4])\n",
    "y = tf.ones([4,5])\n",
    "\n",
    "out = tf.expand_dims(x, axis=-1) * tf.expand_dims(y, axis=0)"
   ]
  },
  {
   "cell_type": "code",
   "execution_count": 124,
   "metadata": {},
   "outputs": [],
   "source": [
    "out = 1 - tf.math.reduce_prod(1-out, axis=-2)"
   ]
  },
  {
   "cell_type": "code",
   "execution_count": 125,
   "metadata": {},
   "outputs": [
    {
     "data": {
      "text/plain": [
       "TensorShape([3, 5])"
      ]
     },
     "execution_count": 125,
     "metadata": {},
     "output_type": "execute_result"
    }
   ],
   "source": [
    "out.shape"
   ]
  },
  {
   "cell_type": "code",
   "execution_count": 99,
   "metadata": {},
   "outputs": [
    {
     "ename": "RuntimeError",
     "evalue": "The size of tensor a (4) must match the size of tensor b (5) at non-singleton dimension 1",
     "output_type": "error",
     "traceback": [
      "\u001b[0;31m---------------------------------------------------------------------------\u001b[0m",
      "\u001b[0;31mRuntimeError\u001b[0m                              Traceback (most recent call last)",
      "Cell \u001b[0;32mIn[99], line 1\u001b[0m\n\u001b[0;32m----> 1\u001b[0m torch\u001b[38;5;241m.\u001b[39mprod(\u001b[38;5;241m1\u001b[39m\u001b[38;5;241m-\u001b[39m(\u001b[43mx\u001b[49m\u001b[43m \u001b[49m\u001b[38;5;241;43m*\u001b[39;49m\u001b[43m \u001b[49m\u001b[43my\u001b[49m),dim\u001b[38;5;241m=\u001b[39m\u001b[38;5;241m-\u001b[39m\u001b[38;5;241m1\u001b[39m)\n",
      "\u001b[0;31mRuntimeError\u001b[0m: The size of tensor a (4) must match the size of tensor b (5) at non-singleton dimension 1"
     ]
    }
   ],
   "source": [
    "torch.prod(1-(x * y),dim=-1)"
   ]
  },
  {
   "cell_type": "code",
   "execution_count": 177,
   "metadata": {},
   "outputs": [],
   "source": [
    "class ORLinear():\n",
    "    def __init__(self, \n",
    "                 in_features,\n",
    "                 out_features,\n",
    "                 seq_len,\n",
    "                 is_bias=False) -> None:\n",
    "        super().__init__()\n",
    "\n",
    "        self.in_features = in_features\n",
    "        self.out_features = out_features\n",
    "        self.seq_len = seq_len\n",
    "        self.is_bias = is_bias\n",
    "        self.weight = None\n",
    "        self.bias = None\n",
    "\n",
    "    def load_weight(self, data):\n",
    "        assert data['weight'].shape == torch.Size([self.in_features, self.out_features])\n",
    "\n",
    "        self.weight = F2S(seq_len=self.seq_len)(data['weight'])\n",
    "\n",
    "        if self.is_bias:\n",
    "            assert data['bias'].shape == torch.Size([self.out_features])\n",
    "            self.bias = F2S(seq_len=self.seq_len)(data['bias'])\n",
    "            if len(self.bias.shape) <=2 : \n",
    "                self.bias = self.bias.unsqueeze(dim=0)\n",
    "            self.weight = torch.cat([self.weight, self.bias], dim=0)\n",
    "\n",
    "    def forward(self, inputs):\n",
    "        out = torch.zeros(inputs.shape[:-2] + (self.out_features,self.seq_len),dtype=torch.bool)\n",
    "\n",
    "        if self.is_bias:\n",
    "            bias_input = torch.ones(1,self.seq_len, dtype=torch.bool).expand(inputs.shape[:-2]+(1,-1,))\n",
    "            inputs = torch.concat([inputs, bias_input],dim=-2)\n",
    "\n",
    "\n",
    "        for i in range(self.out_features):\n",
    "            print(s2f(mul(inputs, self.weight[:,i])))\n",
    "            out[...,i,:] = torch.any(mul(inputs, self.weight[:,i]),dim=-2)\n",
    "        return out"
   ]
  },
  {
   "cell_type": "code",
   "execution_count": 178,
   "metadata": {},
   "outputs": [],
   "source": [
    "l = ORLinear(100,10,10)"
   ]
  },
  {
   "cell_type": "code",
   "execution_count": 179,
   "metadata": {},
   "outputs": [],
   "source": [
    "l.load_weight(data = {\n",
    "    'weight':((torch.rand(100,10))-0.5)/1024\n",
    "})"
   ]
  },
  {
   "cell_type": "code",
   "execution_count": 180,
   "metadata": {},
   "outputs": [],
   "source": [
    "f2s = F2S(10)\n",
    "s2f = S2F()"
   ]
  },
  {
   "cell_type": "code",
   "execution_count": 181,
   "metadata": {},
   "outputs": [
    {
     "name": "stdout",
     "output_type": "stream",
     "text": [
      "tensor([[-0.4000,  0.4000,  0.4000,  0.4000, -0.2000, -0.2000, -0.2000, -0.4000,\n",
      "         -0.4000, -0.2000,  0.6000,  0.4000,  0.4000, -0.4000,  0.8000,  0.0000,\n",
      "         -0.4000, -0.2000,  0.0000,  0.0000,  0.2000, -0.2000, -0.4000, -0.4000,\n",
      "          0.2000, -0.4000,  0.4000, -0.4000, -0.6000, -0.4000, -0.2000, -0.8000,\n",
      "          0.0000, -0.6000, -0.2000,  0.0000,  0.2000,  0.4000, -0.4000, -0.4000,\n",
      "          0.0000,  0.0000,  0.0000,  0.2000, -0.2000,  0.0000,  0.0000,  0.2000,\n",
      "         -0.4000,  0.4000,  0.2000,  0.2000, -0.2000, -0.2000,  0.0000, -0.2000,\n",
      "         -0.2000,  0.4000, -0.2000, -0.4000, -0.2000, -0.4000, -0.2000, -0.4000,\n",
      "         -0.4000,  0.4000,  0.0000, -0.2000,  0.0000,  0.0000,  0.0000, -0.2000,\n",
      "         -0.2000, -0.2000,  0.0000,  0.8000, -0.4000,  0.0000,  0.2000, -0.6000,\n",
      "         -0.2000, -0.4000, -0.6000, -0.6000,  0.6000,  0.2000,  0.0000,  0.4000,\n",
      "         -0.2000, -0.2000,  0.4000,  0.0000, -0.2000,  0.0000,  0.2000,  0.4000,\n",
      "          0.0000, -0.2000,  0.4000,  0.2000],\n",
      "        [ 0.0000,  0.4000, -1.0000,  0.4000,  0.0000, -0.4000,  0.0000,  0.6000,\n",
      "         -0.2000, -0.8000,  0.2000,  0.4000, -0.2000,  0.0000,  0.0000, -0.2000,\n",
      "          0.2000,  0.4000, -0.4000,  0.2000, -0.6000,  0.0000, -0.2000,  0.4000,\n",
      "         -0.2000, -0.2000, -0.2000,  0.0000,  0.2000, -0.2000,  0.2000,  0.0000,\n",
      "          0.4000, -0.4000,  0.0000, -0.2000,  0.2000, -0.2000, -0.2000, -0.2000,\n",
      "          0.2000, -0.2000, -0.2000, -0.4000,  0.0000, -0.2000,  0.4000,  0.2000,\n",
      "         -0.2000,  0.4000, -0.6000, -0.2000,  0.2000, -0.4000,  0.0000, -0.4000,\n",
      "         -0.2000, -0.2000,  0.0000,  0.2000, -0.6000, -0.4000, -0.2000, -0.2000,\n",
      "          0.4000, -0.2000,  0.2000, -0.4000,  0.2000,  0.4000,  0.0000,  0.2000,\n",
      "          0.2000,  0.0000,  0.2000,  0.0000, -0.4000, -0.2000,  0.2000,  0.0000,\n",
      "          0.4000, -0.4000,  0.0000,  0.4000, -0.2000, -0.2000,  0.2000,  0.2000,\n",
      "         -0.4000,  0.0000, -0.6000,  0.0000, -0.2000,  0.2000, -0.2000, -0.6000,\n",
      "         -0.6000,  0.0000,  0.8000,  0.2000],\n",
      "        [ 0.2000, -0.2000, -0.2000, -0.4000, -0.2000,  0.2000, -0.2000,  0.0000,\n",
      "         -0.2000,  0.0000, -0.6000,  0.0000, -0.2000,  0.2000, -0.4000,  0.2000,\n",
      "          0.2000, -0.4000,  0.2000, -0.2000,  0.4000, -0.2000,  0.2000, -0.2000,\n",
      "          0.2000,  0.4000,  0.6000,  0.0000,  0.6000,  0.0000,  0.4000, -0.4000,\n",
      "         -0.4000,  0.2000,  0.0000,  0.0000, -0.2000,  0.0000, -0.4000,  0.2000,\n",
      "          0.0000, -0.4000, -0.4000,  0.2000,  0.0000,  0.2000,  0.4000, -0.6000,\n",
      "         -0.2000,  0.0000,  0.4000, -0.4000,  0.6000, -0.4000,  0.2000, -0.2000,\n",
      "         -0.4000, -0.2000,  0.2000,  0.0000,  0.2000,  0.2000,  0.2000, -0.2000,\n",
      "          0.0000,  0.2000, -0.2000, -0.2000,  0.0000,  0.2000,  0.6000,  0.2000,\n",
      "          1.0000,  0.0000, -0.2000,  0.2000, -0.6000,  0.2000, -0.4000, -0.4000,\n",
      "          0.2000, -0.2000, -0.2000,  0.2000, -0.4000,  0.6000,  0.6000,  0.0000,\n",
      "         -0.2000,  0.4000, -0.2000,  0.4000,  0.0000, -0.2000, -0.2000, -0.2000,\n",
      "         -0.2000, -0.4000,  0.0000,  0.0000]])\n",
      "tensor([[-0.4000, -0.4000,  0.0000,  0.2000, -0.6000,  0.0000,  0.0000,  0.0000,\n",
      "          0.0000, -0.4000, -0.2000,  0.6000, -0.6000, -0.2000, -0.6000,  0.0000,\n",
      "          0.2000,  0.8000,  0.4000,  0.0000,  0.2000, -0.4000,  0.0000,  0.4000,\n",
      "          0.0000,  0.0000, -0.6000, -0.4000,  0.2000, -0.2000,  0.2000, -0.2000,\n",
      "          0.2000, -0.6000, -0.6000,  0.0000,  0.4000,  0.2000, -0.4000,  0.0000,\n",
      "          0.6000, -0.4000,  0.4000,  0.0000,  0.6000, -0.2000,  0.2000,  0.0000,\n",
      "         -0.2000,  0.0000, -0.6000, -0.6000,  0.2000,  0.0000,  0.4000,  0.2000,\n",
      "          0.0000,  0.0000, -0.2000,  0.6000,  0.4000,  0.4000,  0.4000,  0.4000,\n",
      "          0.2000, -0.2000, -0.4000, -0.2000, -0.4000,  0.2000,  0.4000,  0.4000,\n",
      "         -0.2000,  0.0000,  0.0000,  0.8000, -0.2000,  0.0000, -0.4000,  0.2000,\n",
      "          0.4000,  0.6000, -0.4000, -0.2000,  0.0000,  0.0000,  0.0000,  0.2000,\n",
      "          0.0000,  0.0000,  0.0000, -0.2000, -0.2000, -0.2000,  0.0000,  0.4000,\n",
      "          0.8000,  0.2000,  0.2000, -0.4000],\n",
      "        [-0.4000,  0.0000, -0.6000, -0.2000,  0.0000,  0.2000, -0.6000, -0.2000,\n",
      "         -0.2000, -0.2000,  0.2000,  0.2000, -0.4000, -0.2000,  0.2000, -0.2000,\n",
      "         -0.4000,  0.2000,  0.4000,  0.2000,  0.2000,  0.2000,  0.2000,  0.0000,\n",
      "          0.0000, -0.2000,  0.4000,  0.0000, -0.2000,  0.0000, -0.2000, -0.2000,\n",
      "          0.2000,  0.0000,  0.4000, -0.2000,  0.0000,  0.0000,  0.2000,  0.6000,\n",
      "         -0.8000,  0.2000,  0.2000, -0.2000,  0.4000, -0.4000,  0.2000,  0.0000,\n",
      "          0.0000,  0.0000,  0.2000,  0.6000,  0.2000, -0.2000,  0.0000,  0.0000,\n",
      "          0.0000, -0.2000, -0.4000, -0.8000,  0.4000,  0.0000, -0.4000,  0.2000,\n",
      "          0.2000,  0.0000, -0.2000, -0.4000,  0.6000,  0.2000,  0.0000,  0.0000,\n",
      "         -0.6000, -0.2000, -0.2000,  0.0000,  0.2000, -0.2000, -0.4000, -0.4000,\n",
      "         -0.2000,  0.2000,  0.2000,  0.0000,  0.0000, -0.4000,  0.2000,  0.0000,\n",
      "          0.2000, -0.2000,  0.2000,  0.6000,  0.6000, -0.4000,  0.0000, -0.6000,\n",
      "          0.2000, -0.4000, -0.2000,  0.0000],\n",
      "        [-0.2000, -0.6000, -0.2000, -0.2000,  0.2000,  0.0000,  0.0000,  0.0000,\n",
      "         -0.2000, -0.2000,  0.2000, -0.2000,  0.4000,  0.0000,  0.2000, -0.2000,\n",
      "          0.4000, -0.6000, -0.6000,  0.6000, -0.4000, -0.4000,  0.2000, -0.2000,\n",
      "         -0.4000,  0.4000, -0.8000,  0.0000, -0.6000, -0.2000,  0.0000, -0.2000,\n",
      "         -0.2000,  0.2000,  0.0000,  0.0000, -0.4000,  0.2000,  0.4000, -0.2000,\n",
      "          0.6000,  0.0000,  0.8000,  0.0000, -0.8000, -0.4000, -0.2000,  0.4000,\n",
      "          0.0000,  0.0000,  0.0000,  0.0000, -0.2000, -0.2000, -0.2000, -0.2000,\n",
      "          0.6000, -0.2000, -0.2000,  0.2000,  0.4000,  0.2000,  0.4000,  0.2000,\n",
      "          0.6000,  0.4000, -0.2000,  0.2000,  0.0000,  0.0000, -0.2000, -0.4000,\n",
      "         -0.2000,  0.2000,  0.2000,  0.2000,  0.4000, -0.6000, -0.2000,  0.4000,\n",
      "         -0.4000,  0.0000,  0.4000,  0.2000, -0.2000,  0.4000, -0.2000,  0.2000,\n",
      "         -0.8000, -0.2000,  0.2000,  0.2000,  0.4000,  0.4000,  0.0000,  0.2000,\n",
      "         -0.2000,  0.0000, -0.2000, -0.2000]])\n",
      "tensor([[-0.2000,  0.0000, -0.2000,  0.4000, -0.2000,  0.0000,  0.0000,  0.0000,\n",
      "         -0.4000, -0.2000, -0.4000,  0.4000,  0.2000,  0.0000,  0.4000,  0.2000,\n",
      "         -0.2000,  0.4000, -0.2000,  0.2000,  0.2000, -0.2000, -0.2000, -0.6000,\n",
      "         -0.4000, -0.2000, -0.2000,  0.0000, -0.4000,  0.2000,  0.2000,  0.6000,\n",
      "          0.2000,  0.4000, -0.4000,  0.0000, -0.2000,  0.6000,  0.0000, -0.8000,\n",
      "         -0.6000,  0.0000,  0.2000,  0.2000, -0.4000, -0.2000, -0.2000, -0.2000,\n",
      "          0.4000,  0.0000,  0.0000,  0.2000, -0.2000, -0.6000,  0.0000, -0.4000,\n",
      "         -0.2000, -0.2000,  0.2000,  0.0000,  0.0000, -0.4000,  0.4000, -0.2000,\n",
      "         -0.8000,  0.2000, -0.4000, -0.2000,  0.0000,  0.2000,  0.6000,  0.0000,\n",
      "          0.0000, -0.8000,  0.0000,  0.6000,  0.4000,  0.2000, -0.4000,  0.4000,\n",
      "          0.0000, -0.8000,  0.4000,  0.0000, -0.2000, -0.4000, -0.2000,  0.4000,\n",
      "          0.0000, -0.2000,  0.0000,  0.0000,  0.2000, -0.8000, -0.2000,  0.2000,\n",
      "         -0.2000,  0.6000,  0.2000,  0.0000],\n",
      "        [-0.2000,  0.0000,  0.4000,  0.0000,  0.4000,  0.2000, -0.2000, -0.2000,\n",
      "         -0.2000,  0.0000, -0.4000,  0.0000,  0.4000,  0.0000,  0.0000,  0.0000,\n",
      "          0.0000,  0.2000, -0.6000,  0.0000,  0.2000, -0.4000,  0.0000, -0.2000,\n",
      "          0.0000,  0.0000,  0.0000,  0.4000,  0.0000,  0.4000, -0.2000, -0.2000,\n",
      "          0.2000,  0.2000, -0.2000,  0.2000,  0.2000,  0.0000,  0.2000, -0.6000,\n",
      "          0.0000, -0.2000,  0.4000, -0.4000, -0.6000,  0.0000, -0.2000,  0.2000,\n",
      "          0.6000, -0.4000,  0.4000, -0.2000,  0.2000,  0.0000, -0.4000,  0.2000,\n",
      "         -0.2000, -0.4000, -0.4000, -0.2000, -0.8000,  0.4000, -0.4000, -0.4000,\n",
      "          0.4000,  0.4000, -0.6000, -0.8000, -0.2000, -0.2000, -0.2000,  0.0000,\n",
      "          0.4000, -0.2000, -0.2000, -0.2000, -0.4000,  0.0000,  0.0000,  0.2000,\n",
      "          0.2000, -0.4000, -0.2000, -0.2000,  0.2000,  0.0000,  0.0000,  0.2000,\n",
      "         -0.2000,  0.0000, -0.2000,  0.0000, -0.2000, -0.6000, -0.2000, -0.8000,\n",
      "          0.0000, -0.4000,  0.2000, -0.4000],\n",
      "        [-0.4000,  0.2000,  0.4000,  0.0000,  0.2000,  0.0000,  0.0000,  0.4000,\n",
      "         -0.6000,  0.4000,  0.4000,  0.0000,  0.4000,  0.6000,  0.0000,  0.0000,\n",
      "          0.0000,  0.2000,  0.4000,  0.0000, -0.8000, -0.2000,  0.4000,  0.0000,\n",
      "          0.0000, -0.2000,  0.0000,  0.0000,  0.4000,  0.2000,  0.0000,  0.6000,\n",
      "         -0.2000,  0.0000,  0.2000,  0.0000,  0.2000,  0.6000,  0.4000,  0.6000,\n",
      "         -0.2000,  0.0000,  1.0000, -0.2000,  0.2000,  0.4000, -0.2000,  0.2000,\n",
      "         -0.6000,  0.0000, -0.6000,  0.0000, -0.2000,  0.0000, -0.2000, -0.4000,\n",
      "          0.4000,  0.0000,  0.6000, -0.4000,  0.0000, -0.6000,  0.0000,  0.4000,\n",
      "         -0.4000,  0.0000, -0.2000,  0.2000,  0.4000,  0.0000,  0.0000,  0.0000,\n",
      "          0.0000, -0.2000,  0.2000,  0.4000, -0.6000,  0.0000, -0.2000,  0.2000,\n",
      "          0.4000,  0.2000,  0.0000, -0.4000,  0.0000, -0.4000, -0.4000,  0.4000,\n",
      "         -0.4000,  0.0000, -0.2000,  0.0000, -0.4000,  0.2000, -0.6000, -0.4000,\n",
      "          0.4000, -0.4000,  0.2000,  0.2000]])\n",
      "tensor([[ 0.4000,  0.2000,  0.0000, -0.8000, -0.2000,  0.2000,  0.4000, -0.8000,\n",
      "          0.0000, -0.4000,  0.4000, -0.4000, -0.4000,  0.2000, -0.8000,  0.0000,\n",
      "          0.4000,  0.0000,  0.4000,  0.0000,  0.4000,  0.0000, -0.2000, -0.2000,\n",
      "          0.2000,  0.0000, -0.6000,  0.0000,  0.2000,  0.0000,  0.0000, -0.6000,\n",
      "          0.2000, -0.2000, -0.2000,  0.6000,  0.6000,  0.2000, -0.2000,  0.6000,\n",
      "         -0.2000, -0.2000,  0.2000,  0.0000, -0.2000, -0.2000,  0.0000,  0.0000,\n",
      "          0.4000, -0.4000,  0.0000, -0.2000,  0.0000,  0.0000, -0.2000, -0.4000,\n",
      "         -0.2000,  0.0000, -0.4000,  0.4000,  0.0000,  0.2000, -0.2000,  0.0000,\n",
      "         -0.6000, -0.4000,  0.2000,  0.0000,  0.6000, -0.4000,  0.0000,  0.2000,\n",
      "          0.2000,  0.0000,  0.2000, -0.2000,  0.2000,  0.6000,  0.2000,  0.0000,\n",
      "          0.2000, -0.2000, -0.4000,  0.0000, -0.2000, -0.2000, -0.2000,  0.0000,\n",
      "          0.2000,  0.0000, -0.2000,  0.6000,  0.2000, -0.6000,  0.6000, -0.2000,\n",
      "          0.0000, -0.8000,  0.4000,  0.0000],\n",
      "        [ 0.0000,  0.2000,  0.2000, -0.4000, -0.4000, -0.4000, -0.2000, -0.2000,\n",
      "         -0.2000,  0.2000,  0.0000,  0.0000, -0.2000,  0.6000,  0.4000, -0.2000,\n",
      "          0.2000, -0.6000,  0.0000, -0.2000,  0.0000,  0.2000,  0.0000,  0.2000,\n",
      "          1.0000, -0.2000,  0.4000,  0.0000,  0.2000, -0.2000,  0.4000, -0.2000,\n",
      "          0.2000,  0.0000, -0.4000,  0.0000, -0.2000,  0.0000,  0.0000,  0.0000,\n",
      "         -0.4000,  0.0000,  0.0000, -0.2000,  0.0000, -0.4000,  0.0000,  0.0000,\n",
      "          0.2000,  0.0000,  0.0000,  0.6000,  0.4000, -0.2000,  0.2000,  0.6000,\n",
      "          0.2000, -0.6000, -0.6000, -0.6000, -0.4000, -0.2000,  0.6000, -0.2000,\n",
      "          0.2000, -0.6000,  0.0000,  1.0000,  0.0000, -0.4000, -0.4000,  0.2000,\n",
      "          0.2000, -0.6000,  0.4000, -0.6000, -0.2000,  0.4000,  0.2000, -0.2000,\n",
      "          0.0000,  0.6000, -0.2000,  0.2000, -0.2000,  0.2000,  0.8000,  0.2000,\n",
      "         -0.4000, -0.2000,  0.0000, -0.6000,  0.2000,  0.0000, -0.2000,  0.0000,\n",
      "          0.2000,  0.2000,  0.0000,  0.0000],\n",
      "        [-0.6000,  0.0000,  0.2000,  0.4000,  0.2000,  0.2000,  0.4000,  0.4000,\n",
      "          0.2000,  0.2000, -0.4000,  0.0000,  0.2000,  0.0000,  0.4000, -0.2000,\n",
      "         -0.2000,  0.6000, -0.2000,  0.2000,  0.2000,  0.0000,  0.0000,  0.0000,\n",
      "          0.2000, -0.4000, -0.4000,  0.0000, -0.2000,  0.4000, -0.2000, -0.2000,\n",
      "         -0.2000,  0.2000,  0.0000,  0.2000,  0.2000,  0.2000,  0.2000, -0.4000,\n",
      "          0.2000,  0.2000,  0.2000,  0.0000,  0.4000, -0.4000,  0.0000,  0.4000,\n",
      "          0.2000,  0.0000,  0.2000,  0.0000,  0.4000, -0.6000, -0.4000, -0.4000,\n",
      "          0.0000,  0.2000,  0.0000,  0.0000,  0.4000,  0.0000, -0.2000,  0.6000,\n",
      "         -0.2000,  0.6000,  0.0000, -0.4000, -0.2000,  0.6000,  0.2000, -0.2000,\n",
      "         -0.2000,  0.2000, -0.4000,  0.4000,  0.0000,  0.0000,  0.4000,  0.6000,\n",
      "          0.6000,  0.0000,  0.0000,  0.0000, -0.4000, -0.2000,  0.0000, -0.4000,\n",
      "         -0.2000, -0.2000, -0.8000, -0.6000,  0.4000,  0.0000,  0.2000, -0.4000,\n",
      "          0.2000,  0.2000,  0.4000, -0.2000]])\n",
      "tensor([[ 0.2000, -0.2000,  0.4000,  0.0000,  0.0000,  0.0000,  0.2000,  0.0000,\n",
      "         -0.4000, -0.2000,  0.0000,  0.6000,  0.0000,  0.0000, -0.4000,  0.2000,\n",
      "          0.0000, -0.4000, -0.6000,  0.2000,  0.2000,  0.2000, -0.2000,  0.2000,\n",
      "          0.2000,  0.6000, -0.2000,  0.2000,  0.4000,  0.0000, -0.2000,  0.0000,\n",
      "          0.0000, -0.4000,  0.2000,  0.0000, -0.6000,  0.2000, -0.2000,  0.2000,\n",
      "         -0.4000, -0.2000,  0.0000, -0.8000,  0.0000,  0.6000, -0.2000,  0.4000,\n",
      "         -0.4000, -0.4000,  0.2000,  0.0000, -0.2000,  0.0000,  0.0000,  0.0000,\n",
      "          0.2000,  0.2000,  0.0000,  0.0000,  0.2000,  0.0000,  0.2000,  0.0000,\n",
      "          0.6000,  0.6000, -0.2000, -0.2000, -0.2000, -0.4000,  0.4000, -0.6000,\n",
      "          0.4000,  0.6000, -0.6000, -0.4000,  0.0000,  0.0000,  0.2000,  0.4000,\n",
      "         -0.4000,  0.2000,  0.0000,  0.4000,  0.0000, -0.4000,  0.2000,  0.2000,\n",
      "          0.2000,  0.2000,  0.0000,  0.4000,  0.4000,  0.2000,  0.0000,  0.4000,\n",
      "          0.0000, -0.2000, -0.8000,  0.0000],\n",
      "        [-0.2000, -0.2000,  0.2000,  0.0000,  0.2000,  0.2000, -0.4000, -0.2000,\n",
      "          0.2000,  0.0000,  0.0000,  0.6000,  0.2000,  0.0000,  0.0000,  0.8000,\n",
      "         -0.2000, -0.2000, -0.2000, -0.4000, -0.2000,  0.0000,  0.8000,  0.2000,\n",
      "         -0.2000,  0.4000, -0.4000,  0.2000,  0.0000, -0.2000,  0.2000,  0.0000,\n",
      "          0.0000,  0.2000,  0.4000,  0.2000,  0.6000, -0.4000,  0.0000,  0.0000,\n",
      "         -0.2000,  0.0000, -0.2000,  0.2000,  0.2000, -0.4000, -0.6000,  0.4000,\n",
      "         -0.2000,  0.0000, -0.2000,  0.4000, -0.2000, -0.2000,  0.8000,  0.6000,\n",
      "         -0.2000,  0.0000,  0.6000, -0.2000, -0.6000,  0.4000, -0.2000,  0.2000,\n",
      "         -0.2000,  0.0000,  0.4000, -0.4000,  0.4000,  0.0000, -0.8000, -0.2000,\n",
      "         -0.4000, -0.4000, -0.4000, -0.4000,  0.0000, -0.2000, -0.6000, -0.2000,\n",
      "          0.6000,  0.6000, -0.2000, -0.2000,  0.4000,  0.4000,  0.0000,  0.4000,\n",
      "          0.0000,  0.4000,  0.2000, -0.4000,  0.4000,  0.4000, -0.4000, -0.2000,\n",
      "         -0.2000,  0.0000, -0.4000,  0.4000],\n",
      "        [-0.4000, -0.4000,  0.6000, -0.4000,  0.0000, -0.4000,  0.2000, -0.4000,\n",
      "         -0.2000,  0.4000,  0.4000, -0.6000,  0.2000, -0.2000,  0.4000,  0.4000,\n",
      "          0.2000,  0.6000,  0.0000,  0.4000,  0.0000,  0.2000,  0.0000,  0.4000,\n",
      "          0.2000, -0.2000,  0.4000, -0.2000, -0.8000,  0.0000,  0.4000,  0.0000,\n",
      "          0.0000,  0.4000, -0.4000,  0.0000,  0.2000, -0.6000,  0.2000, -0.4000,\n",
      "         -0.4000, -0.2000, -0.4000,  0.0000,  0.2000,  0.0000, -0.6000, -0.4000,\n",
      "          0.2000,  0.4000,  0.4000,  0.2000, -0.2000,  0.2000, -0.2000,  0.4000,\n",
      "          0.4000,  0.0000, -0.4000, -0.4000, -0.2000, -0.2000, -0.6000, -0.2000,\n",
      "          0.2000,  0.0000,  0.4000,  0.6000, -0.2000, -0.2000,  0.2000,  0.2000,\n",
      "          0.0000,  0.0000,  0.4000,  0.2000, -0.2000, -0.2000,  0.0000,  0.2000,\n",
      "         -0.4000,  0.0000, -0.4000,  0.0000,  0.6000,  0.0000,  0.0000,  0.2000,\n",
      "          0.2000, -0.4000,  0.6000,  0.0000,  0.2000,  0.0000, -0.4000, -0.6000,\n",
      "          0.2000,  0.0000, -0.4000, -0.2000]])\n",
      "tensor([[ 0.4000, -0.4000,  0.2000,  0.2000, -0.2000, -0.4000,  0.0000,  0.0000,\n",
      "         -0.2000,  0.2000,  0.0000,  0.2000, -0.6000, -0.2000,  0.0000,  0.2000,\n",
      "          0.0000,  0.6000, -0.2000,  0.0000, -0.2000,  0.2000,  0.0000, -0.2000,\n",
      "         -0.6000,  0.2000,  0.4000,  0.4000,  0.8000,  0.4000,  0.4000, -0.2000,\n",
      "          0.0000, -0.4000,  0.0000,  0.0000,  0.2000,  0.0000, -0.6000,  0.2000,\n",
      "          0.6000, -0.2000,  0.4000, -0.4000,  0.2000,  0.4000, -0.2000,  0.0000,\n",
      "          0.0000,  0.6000,  0.0000,  0.2000,  0.2000, -0.2000,  0.0000, -0.2000,\n",
      "          0.4000,  0.4000,  0.6000,  0.2000,  0.2000, -0.4000,  0.0000, -0.2000,\n",
      "         -0.2000,  0.4000,  0.6000,  0.2000,  0.2000,  0.2000,  0.4000,  0.2000,\n",
      "          0.0000, -0.4000,  0.0000,  0.4000, -0.4000,  0.2000,  0.0000,  0.0000,\n",
      "         -0.4000,  0.0000,  0.2000,  0.4000, -0.2000,  0.2000,  0.4000,  0.0000,\n",
      "         -0.4000,  0.2000,  0.4000,  0.0000, -0.6000,  0.0000,  0.0000,  0.0000,\n",
      "          0.2000,  0.6000,  0.0000,  0.4000],\n",
      "        [ 0.0000, -0.4000, -0.4000, -0.6000,  0.0000,  0.2000,  0.2000,  0.2000,\n",
      "          0.0000,  0.8000, -0.4000,  0.2000,  0.0000, -0.6000,  0.0000, -0.4000,\n",
      "          0.2000, -0.4000, -0.2000, -0.2000, -0.2000,  0.0000,  0.6000,  0.2000,\n",
      "          0.2000,  0.0000, -0.2000,  0.0000, -0.4000,  0.2000,  0.0000, -0.2000,\n",
      "          0.0000,  0.2000,  0.2000, -0.2000, -0.2000,  0.2000,  0.4000,  0.0000,\n",
      "         -0.4000,  0.0000,  0.2000,  0.2000,  0.0000,  0.2000, -0.2000,  0.4000,\n",
      "         -0.2000,  0.2000, -0.4000, -0.2000,  0.2000,  0.0000,  0.4000,  0.4000,\n",
      "          0.0000,  0.2000,  0.4000,  0.0000,  0.2000, -0.4000, -0.4000, -0.4000,\n",
      "          0.2000,  0.2000,  0.0000,  0.0000,  0.0000, -0.6000,  0.0000,  0.2000,\n",
      "          0.0000,  0.2000, -0.2000,  0.0000,  0.4000,  0.4000,  0.0000, -0.6000,\n",
      "          0.2000, -0.4000,  0.0000, -0.2000, -0.2000, -0.2000, -0.2000, -0.2000,\n",
      "          0.2000,  0.0000, -0.2000,  0.0000, -0.2000,  0.2000,  0.4000,  0.2000,\n",
      "          0.0000, -0.4000,  0.4000,  0.0000],\n",
      "        [-0.2000, -0.2000,  0.0000,  0.2000, -0.6000,  0.4000,  0.0000,  0.0000,\n",
      "          0.4000,  0.0000, -0.4000,  0.2000, -0.4000,  0.0000, -0.4000,  0.0000,\n",
      "          0.2000,  0.0000, -0.4000, -0.2000, -0.4000,  0.2000,  0.2000, -0.4000,\n",
      "          0.2000,  0.2000, -0.2000,  0.4000, -0.4000, -0.4000, -0.2000, -0.2000,\n",
      "          0.0000,  0.0000,  0.2000,  0.0000, -0.2000,  0.8000,  0.2000,  0.4000,\n",
      "          0.2000, -0.2000,  0.4000,  0.0000,  0.4000,  0.2000,  0.2000,  0.0000,\n",
      "         -0.2000,  0.2000,  0.2000,  0.4000,  0.2000,  0.0000,  0.2000,  0.2000,\n",
      "         -0.2000, -0.2000, -0.2000, -0.2000,  0.2000,  0.2000,  0.0000,  0.4000,\n",
      "          0.2000, -0.2000,  0.4000,  0.2000,  0.2000,  0.0000, -0.2000,  0.2000,\n",
      "          0.0000, -0.2000,  0.2000,  0.2000, -0.2000,  0.0000,  0.2000, -0.2000,\n",
      "         -0.8000, -0.2000, -0.2000,  0.0000, -0.4000, -0.2000,  0.2000,  0.0000,\n",
      "          0.0000,  0.0000, -0.2000,  0.0000, -0.4000, -0.2000,  0.0000,  0.2000,\n",
      "          0.4000, -0.4000,  0.4000, -0.6000]])\n",
      "tensor([[ 0.4000, -0.4000,  0.4000, -0.2000, -0.2000,  0.0000,  0.0000, -0.4000,\n",
      "          0.4000,  0.2000,  0.8000,  0.2000,  0.2000, -0.4000,  0.2000,  0.2000,\n",
      "         -0.4000, -0.2000, -0.4000, -0.4000, -0.6000, -0.4000,  0.2000,  0.2000,\n",
      "          0.2000,  0.4000, -0.2000,  0.0000,  0.0000, -0.2000, -0.2000,  0.0000,\n",
      "          0.2000,  0.4000,  0.4000, -0.4000, -0.2000, -0.2000, -0.2000,  0.2000,\n",
      "         -0.2000,  0.4000,  0.0000,  0.2000, -0.2000, -0.4000,  0.4000,  0.2000,\n",
      "          0.0000,  0.0000, -0.2000, -0.4000, -0.2000,  0.4000,  0.0000,  0.2000,\n",
      "          0.2000,  0.0000,  0.0000, -0.6000, -0.2000,  0.0000,  0.4000,  0.4000,\n",
      "         -0.4000,  0.4000,  0.2000, -0.4000,  0.0000,  0.0000,  0.2000, -0.2000,\n",
      "          0.6000, -0.4000, -0.2000,  0.0000, -0.4000, -0.4000, -0.6000, -0.4000,\n",
      "          0.2000,  0.0000, -0.4000,  0.2000, -0.4000,  0.0000,  0.2000, -0.2000,\n",
      "          0.4000,  0.0000,  0.0000,  0.4000, -0.4000, -0.2000,  0.6000,  0.0000,\n",
      "         -0.4000,  0.0000, -0.4000,  0.8000],\n",
      "        [-0.4000,  0.0000, -0.2000,  0.2000,  0.0000,  0.2000,  0.6000, -0.6000,\n",
      "          0.2000,  0.0000,  0.0000, -0.2000,  0.4000, -0.4000, -0.2000, -0.4000,\n",
      "          0.2000,  0.4000,  0.0000, -0.2000,  0.2000,  0.2000,  0.0000, -0.2000,\n",
      "         -0.2000, -0.2000,  0.4000,  0.4000,  0.0000,  0.0000, -0.2000,  0.4000,\n",
      "          0.2000,  0.6000, -0.2000,  0.2000,  0.2000,  0.4000,  0.4000, -0.4000,\n",
      "         -0.4000, -0.2000, -0.2000,  0.0000, -0.4000,  0.2000,  0.0000, -0.2000,\n",
      "          0.6000,  0.0000, -0.2000,  0.0000, -0.2000,  0.2000, -0.4000,  0.0000,\n",
      "         -0.2000, -0.2000,  0.2000,  0.4000,  0.2000,  0.4000,  0.0000,  0.2000,\n",
      "          0.0000,  0.2000, -0.4000, -0.2000, -0.2000,  0.4000, -0.2000, -0.2000,\n",
      "         -0.2000, -0.2000, -0.4000,  0.0000, -0.4000,  0.2000, -0.6000, -0.2000,\n",
      "         -0.4000,  0.4000,  0.2000,  0.0000,  0.0000, -0.8000,  0.4000, -0.4000,\n",
      "         -0.2000, -0.6000, -0.2000, -0.4000,  0.0000, -0.4000,  0.2000,  0.6000,\n",
      "          0.6000, -0.2000,  0.0000, -0.4000],\n",
      "        [ 0.2000, -0.2000, -0.2000, -0.2000, -0.2000,  0.0000,  0.0000,  0.4000,\n",
      "         -0.2000,  0.4000,  0.0000,  0.2000,  0.0000, -0.2000,  0.2000,  0.0000,\n",
      "          0.6000,  0.0000,  0.2000, -0.6000,  0.0000,  0.0000,  0.0000,  0.4000,\n",
      "         -0.2000,  0.4000, -0.8000, -0.4000, -0.4000, -0.6000, -0.4000, -0.4000,\n",
      "          0.2000,  0.0000,  0.2000,  0.4000,  0.2000,  0.6000,  0.2000,  0.0000,\n",
      "          0.2000,  0.4000,  0.0000,  0.2000,  0.0000,  0.2000,  0.4000,  0.2000,\n",
      "         -0.2000,  0.0000,  0.0000,  0.2000,  0.2000,  0.2000, -0.2000,  0.2000,\n",
      "         -0.4000,  0.6000,  0.0000,  0.2000, -0.2000, -0.2000,  0.4000, -0.2000,\n",
      "         -0.4000, -0.2000,  0.0000,  0.4000,  0.4000, -0.6000,  0.4000,  0.2000,\n",
      "         -0.2000, -0.2000,  0.4000, -0.2000,  0.2000, -0.2000, -0.4000,  0.2000,\n",
      "          0.6000, -0.2000,  0.0000, -0.6000, -0.2000,  0.4000,  0.4000,  0.2000,\n",
      "         -0.4000, -0.2000, -0.2000,  0.0000, -0.2000, -0.4000,  0.2000,  0.2000,\n",
      "         -0.2000, -0.2000,  0.0000, -0.2000]])\n",
      "tensor([[ 0.2000,  0.0000,  0.4000,  0.0000, -0.6000,  0.4000, -0.2000,  0.0000,\n",
      "         -0.2000, -0.4000,  0.2000,  0.4000,  0.2000, -0.2000,  0.2000,  0.6000,\n",
      "          0.2000, -0.4000,  0.2000,  0.6000,  0.4000, -0.4000,  0.2000,  0.4000,\n",
      "          0.0000, -0.2000,  0.0000,  0.0000, -0.2000,  0.2000,  0.0000, -0.6000,\n",
      "         -0.4000,  0.4000,  0.4000,  0.2000, -0.4000, -0.4000, -0.6000, -0.4000,\n",
      "          0.0000,  0.0000,  0.0000,  0.0000, -0.4000,  0.2000,  0.4000,  0.0000,\n",
      "         -0.6000, -0.4000,  0.0000,  0.2000,  0.0000,  0.0000,  0.2000,  0.0000,\n",
      "         -0.6000,  0.0000,  0.6000,  0.2000, -0.2000,  0.0000, -0.2000, -0.2000,\n",
      "          1.0000, -0.2000,  0.0000, -0.2000, -0.2000, -0.2000, -0.2000, -0.4000,\n",
      "         -0.6000,  0.2000,  0.2000,  0.4000,  0.0000,  0.2000, -0.4000, -0.2000,\n",
      "          0.2000,  0.2000,  0.2000,  0.2000, -0.4000,  0.2000, -0.4000,  0.0000,\n",
      "          0.0000,  0.0000,  0.0000,  0.4000, -0.2000, -0.2000,  0.6000, -0.4000,\n",
      "         -0.4000,  0.0000,  0.2000,  0.2000],\n",
      "        [-0.2000, -0.4000,  0.2000,  0.0000,  0.8000,  0.6000,  0.0000,  0.6000,\n",
      "          0.4000, -0.6000,  0.2000,  0.0000,  0.0000,  0.2000,  0.2000,  0.4000,\n",
      "         -0.4000, -0.6000, -0.2000,  0.0000,  0.8000, -0.2000,  0.0000, -0.4000,\n",
      "          0.4000,  0.0000, -0.2000, -0.4000,  0.6000,  0.0000,  0.4000,  0.2000,\n",
      "          0.0000, -0.2000,  0.2000,  0.4000, -0.4000,  0.2000,  0.4000, -0.2000,\n",
      "         -0.2000,  0.6000,  0.2000,  0.2000, -0.2000,  0.0000,  0.0000,  0.0000,\n",
      "         -0.4000,  0.0000,  0.0000, -0.2000,  0.0000, -0.6000, -0.6000,  0.2000,\n",
      "          0.2000, -0.2000,  0.0000, -0.4000, -1.0000,  0.0000,  0.2000, -0.4000,\n",
      "         -0.6000,  0.0000, -0.2000,  0.4000,  0.0000, -0.2000,  0.2000,  0.0000,\n",
      "         -0.2000,  0.4000, -0.4000, -0.4000,  0.4000, -0.4000, -0.4000,  0.8000,\n",
      "         -0.4000, -0.2000,  0.0000,  0.0000,  0.0000, -0.2000,  0.2000,  0.2000,\n",
      "         -0.2000, -0.6000,  0.2000, -0.4000, -0.2000,  0.0000,  0.6000,  0.2000,\n",
      "          0.2000,  0.6000, -0.2000,  0.2000],\n",
      "        [ 0.0000,  0.2000, -0.2000,  0.0000,  0.2000,  0.8000,  0.2000,  0.0000,\n",
      "          0.4000,  0.2000, -0.2000, -0.4000,  0.0000,  0.4000,  0.6000,  0.0000,\n",
      "         -0.4000,  0.6000, -0.4000,  0.4000, -0.2000, -0.4000,  0.4000,  0.2000,\n",
      "          0.0000,  0.6000,  0.2000, -0.4000,  0.2000, -0.6000,  0.6000, -0.2000,\n",
      "          0.0000, -0.4000,  0.2000,  0.2000,  0.0000, -0.4000, -0.2000,  0.2000,\n",
      "         -0.4000,  0.4000,  0.0000,  0.0000, -0.2000,  0.0000,  0.0000, -0.4000,\n",
      "          0.0000,  0.0000, -0.2000,  0.4000,  0.0000, -0.2000,  0.0000,  0.4000,\n",
      "          0.0000,  0.2000,  0.2000,  0.2000,  0.2000, -0.2000, -0.2000,  0.4000,\n",
      "          0.6000,  0.0000,  0.2000, -0.2000,  0.2000,  0.0000, -0.4000,  0.4000,\n",
      "          0.2000,  0.0000,  0.4000,  0.2000,  0.2000,  0.0000, -0.2000,  0.0000,\n",
      "          0.2000,  0.0000, -0.2000, -0.2000,  0.2000,  0.6000,  0.2000,  0.4000,\n",
      "         -0.4000,  0.2000, -0.2000,  0.0000,  0.4000,  0.0000,  0.6000, -0.2000,\n",
      "         -0.6000, -0.2000,  0.2000,  0.0000]])\n",
      "tensor([[ 0.0000, -0.6000, -0.4000,  0.4000, -0.2000,  0.0000,  0.0000,  0.0000,\n",
      "          0.0000,  0.4000,  0.0000,  0.2000,  0.2000, -0.4000,  0.6000, -0.6000,\n",
      "         -0.4000,  0.0000,  0.6000, -0.2000,  0.2000, -0.2000,  0.2000, -0.6000,\n",
      "          0.0000,  0.0000,  0.4000, -0.2000,  0.8000,  0.2000, -0.2000, -0.4000,\n",
      "         -0.2000, -0.4000,  0.0000, -0.2000, -0.2000,  0.0000,  0.0000,  0.0000,\n",
      "         -0.6000, -0.2000,  0.6000, -0.2000, -0.2000, -0.4000, -0.4000,  0.4000,\n",
      "         -0.2000,  0.0000,  0.4000,  0.4000,  0.2000,  0.4000, -0.2000,  0.2000,\n",
      "         -0.2000,  0.4000,  0.0000,  0.4000,  0.2000,  0.2000, -0.2000,  0.2000,\n",
      "         -0.2000,  0.2000,  0.0000,  0.4000, -0.6000,  0.2000,  0.4000,  0.0000,\n",
      "          0.6000,  0.0000,  0.0000,  0.2000, -0.2000, -0.4000,  0.4000, -0.2000,\n",
      "          0.0000, -0.2000, -0.4000,  0.2000, -0.2000,  0.6000, -0.4000,  0.2000,\n",
      "         -0.2000,  0.2000, -0.2000,  0.0000,  0.4000,  0.0000, -0.2000, -0.2000,\n",
      "          0.4000,  0.6000, -0.4000, -0.2000],\n",
      "        [-0.4000, -0.2000,  0.6000,  0.0000,  0.4000, -0.2000,  0.6000, -0.2000,\n",
      "         -0.2000, -0.2000, -0.4000,  0.2000,  0.4000,  0.0000, -0.2000, -0.4000,\n",
      "          0.2000, -0.6000,  0.2000,  0.0000, -0.2000,  0.0000,  0.0000, -0.6000,\n",
      "          0.4000,  0.2000, -0.2000,  0.2000, -0.4000, -0.4000, -0.2000,  0.8000,\n",
      "         -0.2000,  0.2000, -0.2000,  0.0000, -0.2000,  0.2000,  0.2000,  0.2000,\n",
      "          0.0000,  0.4000,  0.0000,  0.8000,  0.0000, -0.2000,  0.4000,  0.0000,\n",
      "          0.0000, -0.4000,  0.4000,  0.4000, -0.2000,  0.6000, -0.2000,  0.4000,\n",
      "          0.2000, -0.2000, -0.2000, -0.6000, -0.2000, -0.2000,  0.6000,  0.0000,\n",
      "          0.6000,  0.0000, -0.2000, -0.2000,  0.0000, -0.2000, -0.4000, -0.4000,\n",
      "         -0.2000, -0.2000,  0.2000,  0.2000, -0.6000,  0.2000,  0.0000, -0.4000,\n",
      "         -0.2000,  0.2000,  0.6000, -0.4000,  0.2000, -0.2000,  0.2000,  0.0000,\n",
      "         -0.4000,  0.0000,  0.0000,  0.4000,  0.0000, -0.2000,  0.2000, -0.4000,\n",
      "         -0.6000,  0.0000,  0.4000,  0.2000],\n",
      "        [-0.6000, -0.4000,  0.2000,  0.0000, -0.2000,  0.0000, -0.4000,  0.0000,\n",
      "          0.2000,  0.2000,  0.0000, -0.2000,  0.4000,  0.2000, -0.2000,  0.0000,\n",
      "          0.2000,  0.2000, -0.4000,  0.0000,  0.4000, -0.6000,  0.0000, -0.4000,\n",
      "          0.4000,  0.4000,  0.2000,  0.2000, -0.4000, -0.2000,  0.4000, -0.8000,\n",
      "          0.2000,  0.4000,  0.2000,  0.2000, -0.6000, -0.4000, -0.4000,  0.2000,\n",
      "          0.2000, -0.2000,  0.2000,  0.2000,  0.0000,  0.2000,  0.4000,  0.0000,\n",
      "         -0.4000,  0.4000, -0.6000,  0.2000,  0.2000,  0.2000,  0.0000, -0.2000,\n",
      "         -0.4000, -0.2000,  0.0000,  0.0000,  0.2000,  0.0000, -0.2000,  0.4000,\n",
      "         -0.2000,  0.4000, -0.2000,  0.0000, -0.2000,  0.4000, -0.2000, -0.4000,\n",
      "         -0.2000,  0.2000, -0.2000,  0.0000, -0.4000,  0.2000, -0.2000,  0.0000,\n",
      "         -0.4000, -0.4000,  0.0000,  0.2000,  0.4000,  0.2000,  0.2000, -0.2000,\n",
      "         -0.2000,  0.0000,  0.4000,  0.4000, -0.2000,  0.2000, -0.2000,  0.0000,\n",
      "          0.2000,  0.0000, -0.4000,  0.0000]])\n",
      "tensor([[ 0.6000, -0.2000, -0.2000,  0.2000,  0.6000, -0.4000, -0.4000, -0.2000,\n",
      "          0.0000,  0.6000,  0.2000,  0.2000,  0.0000, -0.2000, -0.4000,  0.2000,\n",
      "         -0.2000, -0.4000,  0.4000,  0.0000,  0.4000,  0.0000,  0.0000,  0.2000,\n",
      "          0.2000,  0.0000, -0.2000,  0.0000, -0.8000, -0.2000, -0.2000, -0.4000,\n",
      "         -0.2000, -0.4000, -0.4000, -0.2000,  0.0000,  0.0000,  0.0000,  0.0000,\n",
      "          0.2000,  0.4000,  0.2000, -0.4000,  0.2000, -0.2000,  0.2000,  0.0000,\n",
      "          0.4000, -0.2000, -0.4000,  0.2000, -0.2000, -0.4000, -0.2000, -0.2000,\n",
      "          0.2000, -0.2000, -0.2000,  0.6000, -0.2000,  0.4000, -0.2000,  0.0000,\n",
      "          0.2000,  0.2000,  0.0000, -0.4000,  0.6000,  0.2000,  0.2000, -0.4000,\n",
      "         -0.4000,  0.2000,  0.6000,  0.0000,  0.6000,  0.2000,  0.0000,  0.0000,\n",
      "          0.6000,  0.6000,  0.4000, -0.4000, -0.4000,  0.0000, -0.2000, -0.2000,\n",
      "         -0.6000,  0.6000, -0.2000, -0.4000,  0.0000, -0.2000,  0.2000,  0.0000,\n",
      "         -0.2000,  0.2000,  0.2000, -0.6000],\n",
      "        [ 0.6000, -0.2000,  0.4000,  0.2000, -0.4000,  0.2000,  0.2000,  0.0000,\n",
      "          0.2000,  0.0000, -0.2000,  0.2000,  0.2000,  0.2000,  0.4000,  0.0000,\n",
      "         -0.4000,  0.2000, -0.4000, -0.2000,  0.0000, -0.2000, -0.2000,  0.2000,\n",
      "          0.2000,  0.2000, -0.4000,  0.4000,  0.4000,  0.0000, -0.2000,  0.0000,\n",
      "          0.6000, -0.2000, -0.2000, -0.4000,  0.0000,  0.2000, -0.2000, -0.2000,\n",
      "         -0.8000,  0.2000,  0.4000,  0.2000, -0.4000,  0.4000,  0.2000, -0.4000,\n",
      "         -0.2000, -0.2000,  0.0000, -0.2000,  0.2000,  0.2000, -0.2000,  0.4000,\n",
      "         -0.2000,  0.0000,  0.0000, -0.4000,  0.2000,  0.0000,  0.2000,  0.2000,\n",
      "         -0.2000,  0.4000, -0.6000,  0.2000, -0.4000,  0.2000, -0.2000,  0.0000,\n",
      "         -0.4000,  0.4000,  0.0000,  0.0000, -0.2000,  0.0000, -0.4000, -0.2000,\n",
      "         -0.8000,  0.2000,  0.2000,  0.6000,  0.0000,  0.0000,  0.4000,  0.0000,\n",
      "         -0.4000,  0.0000,  0.0000,  0.4000, -0.4000,  0.0000,  0.6000, -0.2000,\n",
      "          0.0000, -0.4000, -0.2000,  0.6000],\n",
      "        [ 0.0000,  0.0000,  0.0000, -0.2000, -0.2000,  0.0000,  0.0000, -0.2000,\n",
      "         -0.2000,  0.0000,  0.2000, -0.6000, -0.6000,  0.0000,  0.4000,  0.0000,\n",
      "          0.4000,  0.6000,  0.2000,  0.2000, -0.2000,  0.0000, -0.2000,  0.4000,\n",
      "          0.6000, -0.4000,  0.4000,  0.8000,  0.4000, -0.2000,  0.4000,  0.0000,\n",
      "         -0.2000,  0.4000,  0.2000,  0.2000,  0.0000, -0.4000,  0.4000,  0.6000,\n",
      "          0.2000,  0.4000, -0.2000,  0.4000,  0.0000,  0.0000,  0.6000,  0.0000,\n",
      "         -0.2000,  0.2000, -0.2000, -0.4000,  0.2000,  0.2000,  0.4000, -0.2000,\n",
      "          0.0000,  0.0000,  0.2000,  0.2000,  0.2000, -0.2000, -0.2000,  0.2000,\n",
      "          0.2000, -0.4000,  0.2000,  0.0000,  0.2000,  0.0000, -0.4000,  0.0000,\n",
      "          0.0000, -0.4000,  0.0000,  0.2000, -0.4000,  0.0000, -0.2000, -0.2000,\n",
      "          0.2000, -0.4000,  0.0000,  0.4000, -0.2000,  0.4000, -0.4000, -0.2000,\n",
      "         -0.2000,  0.4000,  0.0000,  0.0000, -0.2000, -0.4000,  0.2000, -0.2000,\n",
      "          0.0000,  0.0000,  0.2000,  0.4000]])\n"
     ]
    },
    {
     "data": {
      "text/plain": [
       "tensor([[1., 1., 1., 1., 1., 1., 1., 1., 1., 1.],\n",
       "        [1., 1., 1., 1., 1., 1., 1., 1., 1., 1.],\n",
       "        [1., 1., 1., 1., 1., 1., 1., 1., 1., 1.]])"
      ]
     },
     "execution_count": 181,
     "metadata": {},
     "output_type": "execute_result"
    }
   ],
   "source": [
    "s2f(l.forward(inputs=f2s(torch.rand(3,100)-0.4)))"
   ]
  },
  {
   "cell_type": "code",
   "execution_count": null,
   "metadata": {},
   "outputs": [],
   "source": []
  },
  {
   "cell_type": "code",
   "execution_count": null,
   "metadata": {},
   "outputs": [],
   "source": []
  }
 ],
 "metadata": {
  "kernelspec": {
   "display_name": "sc",
   "language": "python",
   "name": "python3"
  },
  "language_info": {
   "codemirror_mode": {
    "name": "ipython",
    "version": 3
   },
   "file_extension": ".py",
   "mimetype": "text/x-python",
   "name": "python",
   "nbconvert_exporter": "python",
   "pygments_lexer": "ipython3",
   "version": "3.9.19"
  }
 },
 "nbformat": 4,
 "nbformat_minor": 2
}
